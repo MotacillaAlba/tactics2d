{
 "cells": [
  {
   "cell_type": "markdown",
   "metadata": {},
   "source": [
    "# Visualization of the Interpolators\n",
    "\n",
    "[![Open in Colab](https://colab.research.google.com/assets/colab-badge.svg)](https://colab.research.google.com/github/WoodOxen/tactics2d/blob/v0.1.3/docs/tutorial/interpolator_visualization.ipynb)\n",
    "\n",
    "This notebook demonstrates the utility of motion planning interpolators by visualizing the interpolation of a set of waypoints. The interpolators are used to generate smooth paths between the waypoints. The visualization is done using the `tactics2d` library."
   ]
  },
  {
   "cell_type": "code",
   "execution_count": null,
   "metadata": {},
   "outputs": [],
   "source": [
    "%%capture\n",
    "!pip install tactics2d"
   ]
  },
  {
   "cell_type": "code",
   "execution_count": null,
   "metadata": {},
   "outputs": [],
   "source": [
    "import tactics2d\n",
    "\n",
    "print(tactics2d.__version__)"
   ]
  },
  {
   "cell_type": "code",
   "execution_count": null,
   "metadata": {},
   "outputs": [],
   "source": [
    "import matplotlib.patches as mpatches\n",
    "import matplotlib.pyplot as plt\n",
    "import numpy as np\n",
    "from shapely.affinity import rotate\n",
    "from shapely.geometry import Polygon\n",
    "\n",
    "from tactics2d.math.interpolate import *"
   ]
  },
  {
   "cell_type": "code",
   "execution_count": null,
   "metadata": {},
   "outputs": [],
   "source": [
    "def get_bbox(center, length, width, heading):\n",
    "    polygon = Polygon(\n",
    "        np.array(\n",
    "            [\n",
    "                (length / 2, width / 2),\n",
    "                (-length / 2, width / 2),\n",
    "                (-length / 2, -width / 2),\n",
    "                (length / 2, -width / 2),\n",
    "            ]\n",
    "        )\n",
    "        + center\n",
    "    )\n",
    "    polygon = rotate(polygon, heading, origin=\"center\", use_radians=True)\n",
    "\n",
    "    return list(polygon.exterior.coords)"
   ]
  },
  {
   "cell_type": "markdown",
   "metadata": {},
   "source": [
    "## Visualization of Dubins Interpolator"
   ]
  },
  {
   "cell_type": "code",
   "execution_count": null,
   "metadata": {},
   "outputs": [],
   "source": [
    "def visualize_dubins():\n",
    "    start_headings = np.arange(0.1, 2 * np.pi, 0.66)\n",
    "    start_points = np.vstack((np.cos(start_headings), np.sin(start_headings))).T * 15 + np.array(\n",
    "        [7.5, 7.5]\n",
    "    )\n",
    "    end_point = np.array([7.5, 7.5])\n",
    "    end_heading = np.pi / 2\n",
    "    length = 4\n",
    "    width = 1.8\n",
    "    radius = 7.5\n",
    "\n",
    "    my_dubins = Dubins(radius)\n",
    "\n",
    "    fig, ax = plt.subplots(1, 1)\n",
    "\n",
    "    ax.add_patch(\n",
    "        mpatches.Polygon(\n",
    "            get_bbox(end_point, length, width, end_heading), fill=True, color=\"gray\", alpha=0.5\n",
    "        )\n",
    "    )\n",
    "\n",
    "    for start_point, start_heading in zip(start_points, start_headings):\n",
    "        ax.add_patch(\n",
    "            mpatches.Polygon(\n",
    "                get_bbox(start_point, length, width, start_heading),\n",
    "                fill=True,\n",
    "                color=\"pink\",\n",
    "                alpha=0.5,\n",
    "            )\n",
    "        )\n",
    "        path = my_dubins.get_curve(start_point, start_heading, end_point, end_heading)\n",
    "        curve = path.curve\n",
    "        ax.plot(curve[:, 0], curve[:, 1], \"black\")\n",
    "\n",
    "    ax.set_aspect(\"equal\")\n",
    "    plt.show()"
   ]
  },
  {
   "cell_type": "code",
   "execution_count": null,
   "metadata": {},
   "outputs": [],
   "source": [
    "visualize_dubins()"
   ]
  },
  {
   "cell_type": "markdown",
   "metadata": {},
   "source": [
    "## Visualization of Reeds-Shepp Interpolator"
   ]
  },
  {
   "cell_type": "code",
   "execution_count": null,
   "metadata": {},
   "outputs": [],
   "source": [
    "def visualize_RS():\n",
    "    start_headings = np.arange(0.1, 2 * np.pi, 0.66)\n",
    "    # start_headings = [0.1 + 0.66 * 1]\n",
    "    start_points = np.vstack((np.cos(start_headings), np.sin(start_headings))).T * 15 + np.array(\n",
    "        [7.5, 7.5]\n",
    "    )\n",
    "    end_point = np.array([7.5, 7.5])\n",
    "    end_heading = np.pi / 2\n",
    "    length = 4\n",
    "    width = 1.8\n",
    "    radius = 7.5\n",
    "\n",
    "    my_RS = ReedsShepp(radius)\n",
    "\n",
    "    fig, ax = plt.subplots(1, 1)\n",
    "\n",
    "    ax.add_patch(\n",
    "        mpatches.Polygon(\n",
    "            get_bbox(end_point, length, width, end_heading), fill=True, color=\"gray\", alpha=0.5\n",
    "        )\n",
    "    )\n",
    "\n",
    "    for start_point, start_heading in zip(start_points, start_headings):\n",
    "        ax.add_patch(\n",
    "            mpatches.Polygon(\n",
    "                get_bbox(start_point, length, width, start_heading),\n",
    "                fill=True,\n",
    "                color=\"pink\",\n",
    "                alpha=0.5,\n",
    "            )\n",
    "        )\n",
    "        path = my_RS.get_curve(start_point, start_heading, end_point, end_heading)\n",
    "        curve = path.curve\n",
    "        # paths = my_RS.get_all_path(start_point, start_heading, end_point, end_heading)\n",
    "        # for path in paths:\n",
    "        #     if path is not None:\n",
    "        #         curve = my_RS.get_curve_line(path, start_point, start_heading)\n",
    "        #         ax.plot(curve[:, 0], curve[:, 1])\n",
    "        #         print(path.actions, path.segments * radius, path.signs, path.length)\n",
    "        ax.plot(curve[:, 0], curve[:, 1], \"black\")\n",
    "\n",
    "    ax.set_aspect(\"equal\")\n",
    "    plt.show()"
   ]
  },
  {
   "cell_type": "code",
   "execution_count": null,
   "metadata": {},
   "outputs": [],
   "source": [
    "visualize_RS()"
   ]
  }
 ],
 "metadata": {
  "kernelspec": {
   "display_name": "tactics2d",
   "language": "python",
   "name": "python3"
  },
  "language_info": {
   "codemirror_mode": {
    "name": "ipython",
    "version": 3
   },
   "file_extension": ".py",
   "mimetype": "text/x-python",
   "name": "python",
   "nbconvert_exporter": "python",
   "pygments_lexer": "ipython3",
   "version": "3.9.19"
  }
 },
 "nbformat": 4,
 "nbformat_minor": 2
}
