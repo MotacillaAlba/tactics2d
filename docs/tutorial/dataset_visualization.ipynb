{
 "cells": [
  {
   "cell_type": "markdown",
   "metadata": {},
   "source": [
    "# Dataset Visualization\n",
    "\n",
    "This notebook records the codes that reproduce the demos in [documentation/dataset-overview](https://tactics2d.readthedocs.io/en/latest/dataset-overview). The first section is executable because it calls the data from the sample dataset folder. The second section needs the users to download the corresponding datasets to display results."
   ]
  },
  {
   "cell_type": "code",
   "execution_count": 1,
   "metadata": {},
   "outputs": [],
   "source": [
    "%%capture\n",
    "!pip install tactics2d"
   ]
  },
  {
   "cell_type": "code",
   "execution_count": 1,
   "metadata": {},
   "outputs": [
    {
     "name": "stdout",
     "output_type": "stream",
     "text": [
      "0.1.3\n"
     ]
    }
   ],
   "source": [
    "import tactics2d\n",
    "\n",
    "print(tactics2d.__version__)"
   ]
  },
  {
   "cell_type": "code",
   "execution_count": 2,
   "metadata": {},
   "outputs": [
    {
     "ename": "FileNotFoundError",
     "evalue": "[Errno 2] No such file or directory: './tactics2d/participant/trajectory_classifier.m'",
     "output_type": "error",
     "traceback": [
      "\u001b[0;31m---------------------------------------------------------------------------\u001b[0m",
      "\u001b[0;31mFileNotFoundError\u001b[0m                         Traceback (most recent call last)",
      "Cell \u001b[0;32mIn[2], line 13\u001b[0m\n\u001b[1;32m     10\u001b[0m \u001b[38;5;28;01mimport\u001b[39;00m \u001b[38;5;21;01mnumpy\u001b[39;00m \u001b[38;5;28;01mas\u001b[39;00m \u001b[38;5;21;01mnp\u001b[39;00m\n\u001b[1;32m     11\u001b[0m \u001b[38;5;28;01mimport\u001b[39;00m \u001b[38;5;21;01mmatplotlib\u001b[39;00m \u001b[38;5;28;01mas\u001b[39;00m \u001b[38;5;21;01mmpl\u001b[39;00m\n\u001b[0;32m---> 13\u001b[0m \u001b[38;5;28;01mfrom\u001b[39;00m \u001b[38;5;21;01mtactics2d\u001b[39;00m\u001b[38;5;21;01m.\u001b[39;00m\u001b[38;5;21;01mdataset_parser\u001b[39;00m \u001b[38;5;28;01mimport\u001b[39;00m (\n\u001b[1;32m     14\u001b[0m     ArgoverseParser,\n\u001b[1;32m     15\u001b[0m     DLPParser,\n\u001b[1;32m     16\u001b[0m     InteractionParser,\n\u001b[1;32m     17\u001b[0m     LevelXParser,\n\u001b[1;32m     18\u001b[0m     NuPlanParser,\n\u001b[1;32m     19\u001b[0m     WOMDParser,\n\u001b[1;32m     20\u001b[0m )\n\u001b[1;32m     21\u001b[0m \u001b[38;5;28;01mfrom\u001b[39;00m \u001b[38;5;21;01mtactics2d\u001b[39;00m\u001b[38;5;21;01m.\u001b[39;00m\u001b[38;5;21;01mmap\u001b[39;00m\u001b[38;5;21;01m.\u001b[39;00m\u001b[38;5;21;01mparser\u001b[39;00m \u001b[38;5;28;01mimport\u001b[39;00m OSMParser\n\u001b[1;32m     22\u001b[0m \u001b[38;5;28;01mfrom\u001b[39;00m \u001b[38;5;21;01mtactics2d\u001b[39;00m\u001b[38;5;21;01m.\u001b[39;00m\u001b[38;5;21;01mtraffic\u001b[39;00m\u001b[38;5;21;01m.\u001b[39;00m\u001b[38;5;21;01mscenario_display\u001b[39;00m \u001b[38;5;28;01mimport\u001b[39;00m ScenarioDisplay\n",
      "File \u001b[0;32m~/miniconda3/envs/test1/lib/python3.9/site-packages/tactics2d/dataset_parser/__init__.py:10\u001b[0m\n\u001b[1;32m      8\u001b[0m \u001b[38;5;28;01mfrom\u001b[39;00m \u001b[38;5;21;01m.\u001b[39;00m\u001b[38;5;21;01mparse_argoverse\u001b[39;00m \u001b[38;5;28;01mimport\u001b[39;00m ArgoverseParser\n\u001b[1;32m      9\u001b[0m \u001b[38;5;28;01mfrom\u001b[39;00m \u001b[38;5;21;01m.\u001b[39;00m\u001b[38;5;21;01mparse_dlp\u001b[39;00m \u001b[38;5;28;01mimport\u001b[39;00m DLPParser\n\u001b[0;32m---> 10\u001b[0m \u001b[38;5;28;01mfrom\u001b[39;00m \u001b[38;5;21;01m.\u001b[39;00m\u001b[38;5;21;01mparse_interaction\u001b[39;00m \u001b[38;5;28;01mimport\u001b[39;00m InteractionParser\n\u001b[1;32m     11\u001b[0m \u001b[38;5;28;01mfrom\u001b[39;00m \u001b[38;5;21;01m.\u001b[39;00m\u001b[38;5;21;01mparse_levelx\u001b[39;00m \u001b[38;5;28;01mimport\u001b[39;00m LevelXParser\n\u001b[1;32m     12\u001b[0m \u001b[38;5;28;01mfrom\u001b[39;00m \u001b[38;5;21;01m.\u001b[39;00m\u001b[38;5;21;01mparse_nuplan\u001b[39;00m \u001b[38;5;28;01mimport\u001b[39;00m NuPlanParser\n",
      "File \u001b[0;32m~/miniconda3/envs/test1/lib/python3.9/site-packages/tactics2d/dataset_parser/parse_interaction.py:20\u001b[0m\n\u001b[1;32m     16\u001b[0m \u001b[38;5;28;01mfrom\u001b[39;00m \u001b[38;5;21;01mtactics2d\u001b[39;00m\u001b[38;5;21;01m.\u001b[39;00m\u001b[38;5;21;01mparticipant\u001b[39;00m\u001b[38;5;21;01m.\u001b[39;00m\u001b[38;5;21;01mguess_type\u001b[39;00m \u001b[38;5;28;01mimport\u001b[39;00m GuessType\n\u001b[1;32m     17\u001b[0m \u001b[38;5;28;01mfrom\u001b[39;00m \u001b[38;5;21;01mtactics2d\u001b[39;00m\u001b[38;5;21;01m.\u001b[39;00m\u001b[38;5;21;01mparticipant\u001b[39;00m\u001b[38;5;21;01m.\u001b[39;00m\u001b[38;5;21;01mtrajectory\u001b[39;00m \u001b[38;5;28;01mimport\u001b[39;00m State, Trajectory\n\u001b[0;32m---> 20\u001b[0m \u001b[38;5;28;01mclass\u001b[39;00m \u001b[38;5;21;01mInteractionParser\u001b[39;00m:\n\u001b[1;32m     21\u001b[0m \u001b[38;5;250m    \u001b[39m\u001b[38;5;124;03m\"\"\"This class implements a parser for INTERACTION dataset.\u001b[39;00m\n\u001b[1;32m     22\u001b[0m \n\u001b[1;32m     23\u001b[0m \u001b[38;5;124;03m    !!! quote \"Reference\"\u001b[39;00m\n\u001b[1;32m     24\u001b[0m \u001b[38;5;124;03m        Zhan, Wei, et al. \"Interaction dataset: An international, adversarial and cooperative motion dataset in interactive driving scenarios with semantic maps.\" arXiv preprint arXiv:1910.03088 (2019).\u001b[39;00m\n\u001b[1;32m     25\u001b[0m \u001b[38;5;124;03m    \"\"\"\u001b[39;00m\n\u001b[1;32m     27\u001b[0m     _type_guesser \u001b[38;5;241m=\u001b[39m GuessType()\n",
      "File \u001b[0;32m~/miniconda3/envs/test1/lib/python3.9/site-packages/tactics2d/dataset_parser/parse_interaction.py:27\u001b[0m, in \u001b[0;36mInteractionParser\u001b[0;34m()\u001b[0m\n\u001b[1;32m     20\u001b[0m \u001b[38;5;28;01mclass\u001b[39;00m \u001b[38;5;21;01mInteractionParser\u001b[39;00m:\n\u001b[1;32m     21\u001b[0m \u001b[38;5;250m    \u001b[39m\u001b[38;5;124;03m\"\"\"This class implements a parser for INTERACTION dataset.\u001b[39;00m\n\u001b[1;32m     22\u001b[0m \n\u001b[1;32m     23\u001b[0m \u001b[38;5;124;03m    !!! quote \"Reference\"\u001b[39;00m\n\u001b[1;32m     24\u001b[0m \u001b[38;5;124;03m        Zhan, Wei, et al. \"Interaction dataset: An international, adversarial and cooperative motion dataset in interactive driving scenarios with semantic maps.\" arXiv preprint arXiv:1910.03088 (2019).\u001b[39;00m\n\u001b[1;32m     25\u001b[0m \u001b[38;5;124;03m    \"\"\"\u001b[39;00m\n\u001b[0;32m---> 27\u001b[0m     _type_guesser \u001b[38;5;241m=\u001b[39m \u001b[43mGuessType\u001b[49m\u001b[43m(\u001b[49m\u001b[43m)\u001b[49m\n\u001b[1;32m     29\u001b[0m     \u001b[38;5;28;01mdef\u001b[39;00m \u001b[38;5;21m_get_file_id\u001b[39m(\u001b[38;5;28mself\u001b[39m, file: Union[\u001b[38;5;28mint\u001b[39m, \u001b[38;5;28mstr\u001b[39m]):\n\u001b[1;32m     30\u001b[0m         \u001b[38;5;28;01mif\u001b[39;00m \u001b[38;5;28misinstance\u001b[39m(file, \u001b[38;5;28mstr\u001b[39m):\n",
      "File \u001b[0;32m~/miniconda3/envs/test1/lib/python3.9/site-packages/tactics2d/participant/guess_type.py:21\u001b[0m, in \u001b[0;36mGuessType.__init__\u001b[0;34m(self)\u001b[0m\n\u001b[1;32m     20\u001b[0m \u001b[38;5;28;01mdef\u001b[39;00m \u001b[38;5;21m__init__\u001b[39m(\u001b[38;5;28mself\u001b[39m):\n\u001b[0;32m---> 21\u001b[0m     \u001b[38;5;28mself\u001b[39m\u001b[38;5;241m.\u001b[39mtrajectory_clf \u001b[38;5;241m=\u001b[39m \u001b[43mjoblib\u001b[49m\u001b[38;5;241;43m.\u001b[39;49m\u001b[43mload\u001b[49m\u001b[43m(\u001b[49m\u001b[38;5;124;43m\"\u001b[39;49m\u001b[38;5;124;43m./tactics2d/participant/trajectory_classifier.m\u001b[39;49m\u001b[38;5;124;43m\"\u001b[39;49m\u001b[43m)\u001b[49m\n",
      "File \u001b[0;32m~/miniconda3/envs/test1/lib/python3.9/site-packages/joblib/numpy_pickle.py:650\u001b[0m, in \u001b[0;36mload\u001b[0;34m(filename, mmap_mode)\u001b[0m\n\u001b[1;32m    648\u001b[0m         obj \u001b[38;5;241m=\u001b[39m _unpickle(fobj)\n\u001b[1;32m    649\u001b[0m \u001b[38;5;28;01melse\u001b[39;00m:\n\u001b[0;32m--> 650\u001b[0m     \u001b[38;5;28;01mwith\u001b[39;00m \u001b[38;5;28;43mopen\u001b[39;49m\u001b[43m(\u001b[49m\u001b[43mfilename\u001b[49m\u001b[43m,\u001b[49m\u001b[43m \u001b[49m\u001b[38;5;124;43m'\u001b[39;49m\u001b[38;5;124;43mrb\u001b[39;49m\u001b[38;5;124;43m'\u001b[39;49m\u001b[43m)\u001b[49m \u001b[38;5;28;01mas\u001b[39;00m f:\n\u001b[1;32m    651\u001b[0m         \u001b[38;5;28;01mwith\u001b[39;00m _read_fileobject(f, filename, mmap_mode) \u001b[38;5;28;01mas\u001b[39;00m fobj:\n\u001b[1;32m    652\u001b[0m             \u001b[38;5;28;01mif\u001b[39;00m \u001b[38;5;28misinstance\u001b[39m(fobj, \u001b[38;5;28mstr\u001b[39m):\n\u001b[1;32m    653\u001b[0m                 \u001b[38;5;66;03m# if the returned file object is a string, this means we\u001b[39;00m\n\u001b[1;32m    654\u001b[0m                 \u001b[38;5;66;03m# try to load a pickle file generated with an version of\u001b[39;00m\n\u001b[1;32m    655\u001b[0m                 \u001b[38;5;66;03m# Joblib so we load it with joblib compatibility function.\u001b[39;00m\n",
      "\u001b[0;31mFileNotFoundError\u001b[0m: [Errno 2] No such file or directory: './tactics2d/participant/trajectory_classifier.m'"
     ]
    }
   ],
   "source": [
    "%matplotlib notebook\n",
    "\n",
    "import warnings\n",
    "\n",
    "warnings.filterwarnings(\"ignore\")\n",
    "\n",
    "import json\n",
    "import xml.etree.ElementTree as ET\n",
    "\n",
    "import numpy as np\n",
    "import matplotlib as mpl\n",
    "\n",
    "from tactics2d.dataset_parser import (\n",
    "    ArgoverseParser,\n",
    "    DLPParser,\n",
    "    InteractionParser,\n",
    "    LevelXParser,\n",
    "    NuPlanParser,\n",
    "    WOMDParser,\n",
    ")\n",
    "from tactics2d.map.parser import OSMParser\n",
    "from tactics2d.traffic.scenario_display import ScenarioDisplay\n",
    "\n",
    "mpl.rcParams.update(\n",
    "    {\n",
    "        \"figure.dpi\": 300,\n",
    "        \"figure.frameon\": False,\n",
    "        \"font.family\": \"Dejavu Serif\",\n",
    "        \"font.size\": 10,\n",
    "        \"font.stretch\": \"semi-expanded\",\n",
    "        \"animation.html\": \"jshtml\",\n",
    "        \"animation.embed_limit\": 5000,\n",
    "    }\n",
    ")\n",
    "\n",
    "map_folder = \"https://github.com/WoodOxen/trajectory_data_analysis/tree/main/map\"\n",
    "config_path = \"https://github.com/WoodOxen/trajectory_data_analysis/blob/main/map/map.config\"\n",
    "with open(config_path, \"r\") as f:\n",
    "    configs = json.load(f)\n",
    "\n",
    "scenario_display = ScenarioDisplay()\n",
    "lanelet2_parser = OSMParser(lanelet2=True)"
   ]
  },
  {
   "cell_type": "markdown",
   "metadata": {},
   "source": [
    "## 1. Sample scenario demostration"
   ]
  },
  {
   "cell_type": "markdown",
   "metadata": {},
   "source": [
    "## LevelX"
   ]
  },
  {
   "cell_type": "code",
   "execution_count": null,
   "metadata": {},
   "outputs": [],
   "source": [
    "def demo_levelx(\n",
    "    dataset,\n",
    "    file,\n",
    "    folder,\n",
    "    xlim=None,\n",
    "    ylim=None,\n",
    "    time_range=(0, 10000),\n",
    "    fps=25,\n",
    "    interval=40,\n",
    "    export_to=None,\n",
    "):\n",
    "    dataset_parser = LevelXParser(dataset)\n",
    "    trajectories, actual_time_range = dataset_parser.parse_trajectory(file, folder, time_range)\n",
    "\n",
    "    frames = np.arange(actual_time_range[0], actual_time_range[1], interval)\n",
    "\n",
    "    location = dataset_parser.get_location(file, folder)\n",
    "    map_name = f\"{dataset}_{location}\"\n",
    "\n",
    "    map_config = configs[map_name]\n",
    "    map_path = os.path.join(map_folder, map_config[\"osm_path\"])\n",
    "    map_root = ET.parse(map_path).getroot()\n",
    "    lanelet2_parser = OSMParser(lanelet2=True)\n",
    "    map_ = lanelet2_parser.parse(\n",
    "        map_root, map_config[\"project_rule\"], map_config[\"gps_origin\"], map_config\n",
    "    )\n",
    "\n",
    "    scenario_display = ScenarioDisplay()\n",
    "    scenario_display.reset()\n",
    "    if xlim is None or ylim is None:\n",
    "        ax_settings = {\"aspect\": \"equal\"}\n",
    "        fig_size = (4, 3)\n",
    "    else:\n",
    "        ax_settings = {\"aspect\": \"equal\", \"xlim\": xlim, \"ylim\": ylim}\n",
    "        fig_size = (4, round((ylim[1] - ylim[0]) / (xlim[1] - xlim[0]) * 4, 1))\n",
    "\n",
    "    animation = scenario_display.display(\n",
    "        trajectories, map_, interval, frames, fig_size, **ax_settings\n",
    "    )\n",
    "\n",
    "    if export_to is None:\n",
    "        return animation\n",
    "    else:\n",
    "        animation.save(filename=export_to, writer=\"ffmpeg\", fps=fps, dpi=300)"
   ]
  },
  {
   "cell_type": "code",
   "execution_count": null,
   "metadata": {},
   "outputs": [],
   "source": [
    "# plot highD sample scenario\n",
    "demo_levelx(\n",
    "    \"highD\",\n",
    "    \"01_tracks.csv\",\n",
    "    \"./tactics2d/data/trajectory_sample/highD/data\",\n",
    "    xlim=[0, 300],\n",
    "    ylim=[-25, 5],\n",
    ")"
   ]
  },
  {
   "cell_type": "code",
   "execution_count": null,
   "metadata": {},
   "outputs": [],
   "source": [
    "# plot inD sample scenario\n",
    "demo_levelx(\n",
    "    \"inD\",\n",
    "    \"00_tracks.csv\",\n",
    "    \"./tactics2d/data/trajectory_sample/inD/data\",\n",
    "    xlim=[50, 200],\n",
    "    ylim=[-125, -25],\n",
    ")"
   ]
  },
  {
   "cell_type": "code",
   "execution_count": null,
   "metadata": {},
   "outputs": [],
   "source": [
    "# plot rounD sample scenario\n",
    "demo_levelx(\n",
    "    \"rounD\",\n",
    "    \"00_tracks.csv\",\n",
    "    \"./tactics2d/data/trajectory_sample/rounD/data\",\n",
    "    xlim=[50, 200],\n",
    "    ylim=[-145, -25],\n",
    ")"
   ]
  },
  {
   "cell_type": "code",
   "execution_count": null,
   "metadata": {},
   "outputs": [],
   "source": [
    "# plot exiD sample scenario\n",
    "demo_levelx(\n",
    "    \"exiD\",\n",
    "    \"00_tracks.csv\",\n",
    "    \"./tactics2d/data/trajectory_sample/rounD/data\",\n",
    "    xlim=[300, 600],\n",
    "    ylim=[-500, -100],\n",
    ")"
   ]
  },
  {
   "cell_type": "markdown",
   "metadata": {},
   "source": [
    "### Argoverse 2"
   ]
  },
  {
   "cell_type": "code",
   "execution_count": null,
   "metadata": {},
   "outputs": [],
   "source": [
    "def demo_argoverse(\n",
    "    file, map_file, folder, xlim=None, ylim=None, fps=10, interval=100, export_to=None\n",
    "):\n",
    "    dataset_parser = ArgoverseParser()\n",
    "    trajectories, actual_time_range = dataset_parser.parse_trajectory(file, folder)\n",
    "\n",
    "    frames = np.arange(actual_time_range[0], actual_time_range[1], interval)\n",
    "\n",
    "    map_ = dataset_parser.parse_map(map_file, folder)\n",
    "\n",
    "    scenario_display = ScenarioDisplay()\n",
    "    scenario_display.reset()\n",
    "    if xlim is None or ylim is None:\n",
    "        ax_settings = {\"aspect\": \"equal\"}\n",
    "        fig_size = (4, 3)\n",
    "    else:\n",
    "        ax_settings = {\"aspect\": \"equal\", \"xlim\": xlim, \"ylim\": ylim}\n",
    "        fig_size = (4, round((ylim[1] - ylim[0]) / (xlim[1] - xlim[0]) * 4, 1))\n",
    "\n",
    "    animation = scenario_display.display(\n",
    "        trajectories, map_, interval, frames, fig_size, **ax_settings\n",
    "    )\n",
    "\n",
    "    if export_to is None:\n",
    "        return animation\n",
    "    else:\n",
    "        animation.save(filename=export_to, writer=\"ffmpeg\", fps=fps, dpi=300)"
   ]
  },
  {
   "cell_type": "code",
   "execution_count": null,
   "metadata": {},
   "outputs": [],
   "source": [
    "# plot Argoverse 2 sample scenario\n",
    "demo_argoverse(\n",
    "    \"scenario_0a0a2bb7-c4f4-44cd-958a-9ee15cb34aca.parquet\",\n",
    "    \"log_map_archive_0a0a2bb7-c4f4-44cd-958a-9ee15cb34aca.json\",\n",
    "    \"./tactics2d/data/trajectory_sample/Argoverse/train/0a0a2bb7-c4f4-44cd-958a-9ee15cb34aca\",\n",
    "    xlim=[1800, 2100],\n",
    "    ylim=[500, 750],\n",
    ")"
   ]
  },
  {
   "cell_type": "markdown",
   "metadata": {},
   "source": [
    "### DLP"
   ]
  },
  {
   "cell_type": "code",
   "execution_count": null,
   "metadata": {},
   "outputs": [],
   "source": [
    "# plot DLP sample scenario\n",
    "dlp_time_range = (0, 20000)\n",
    "dlp_fps = 25\n",
    "dlp_interval = int(1000 / dlp_fps)\n",
    "\n",
    "dataset_parser = DLPParser()\n",
    "trajectories, actual_time_range = dataset_parser.parse_trajectory(\n",
    "    \"DJI_0012_agents.json\", \"./tactics2d/data/trajectory_sample/DLP\", dlp_time_range\n",
    ")\n",
    "\n",
    "frames = np.arange(actual_time_range[0], actual_time_range[1], dlp_interval)\n",
    "\n",
    "map_config = configs[\"DLP\"]\n",
    "map_path = os.path.join(map_folder, map_config[\"osm_path\"])\n",
    "map_root = ET.parse(map_path).getroot()\n",
    "map_ = lanelet2_parser.parse(map_root, map_config)\n",
    "\n",
    "scenario_display.reset()\n",
    "ax_settings = {\"aspect\": \"equal\", \"xlim\": [-5, 145], \"ylim\": [0, 80]}\n",
    "animation = scenario_display.display(trajectories, map_, dlp_interval, frames, (5, 2.7))\n",
    "# animation.save(filename=\"./samples/imgs/dlp_sample.gif\", writer=\"ffmpeg\", fps=dlp_fps, dpi=300)"
   ]
  },
  {
   "cell_type": "markdown",
   "metadata": {},
   "source": [
    "### INTERACTION"
   ]
  },
  {
   "cell_type": "code",
   "execution_count": null,
   "metadata": {},
   "outputs": [],
   "source": [
    "def demo_interaction(\n",
    "    file,\n",
    "    folder,\n",
    "    map_name,\n",
    "    xlim=None,\n",
    "    ylim=None,\n",
    "    time_range=(0, 10000),\n",
    "    fps=10,\n",
    "    interval=100,\n",
    "    export_to=None,\n",
    "):\n",
    "    dataset_parser = InteractionParser()\n",
    "    trajectories, actual_time_range = dataset_parser.parse_trajectory(file, folder, time_range)\n",
    "\n",
    "    frames = np.arange(actual_time_range[0], actual_time_range[1], interval)\n",
    "\n",
    "    map_config = configs[map_name]\n",
    "    map_path = os.path.join(map_folder, map_config[\"osm_path\"])\n",
    "    map_root = ET.parse(map_path).getroot()\n",
    "    map_ = lanelet2_parser.parse(map_root, configs[map_name])\n",
    "\n",
    "    scenario_display = ScenarioDisplay()\n",
    "    scenario_display.reset()\n",
    "    if xlim is None or ylim is None:\n",
    "        ax_settings = {\"aspect\": \"equal\"}\n",
    "        fig_size = (4, 3)\n",
    "    else:\n",
    "        ax_settings = {\"aspect\": \"equal\", \"xlim\": xlim, \"ylim\": ylim}\n",
    "        fig_size = (4, round((ylim[1] - ylim[0]) / (xlim[1] - xlim[0]) * 4, 1))\n",
    "\n",
    "    animation = scenario_display.display(\n",
    "        trajectories, map_, interval, frames, fig_size, **ax_settings\n",
    "    )\n",
    "\n",
    "    if export_to is None:\n",
    "        return animation\n",
    "    else:\n",
    "        animation.save(filename=export_to, writer=\"ffmpeg\", fps=fps, dpi=300)"
   ]
  },
  {
   "cell_type": "code",
   "execution_count": null,
   "metadata": {},
   "outputs": [],
   "source": [
    "# plot INTERACTION sample scenario\n",
    "demo_interaction(\n",
    "    \"vehicle_tracks_000.csv\",\n",
    "    \"./tactics2d/data/trajectory_sample/INTERACTION/recorded_trackfiles/DR_USA_Intersection_EP0\",\n",
    "    \"DR_USA_Intersection_EP0\",\n",
    "    xlim=[945, 1050],\n",
    "    ylim=[965, 1025],\n",
    ")"
   ]
  },
  {
   "cell_type": "markdown",
   "metadata": {},
   "source": [
    "### NuPlan"
   ]
  },
  {
   "cell_type": "code",
   "execution_count": null,
   "metadata": {},
   "outputs": [],
   "source": [
    "# plot NuPlan sample scenario\n",
    "nuplan_fps = 20\n",
    "nuplan_interval = int(1000 / nuplan_fps)\n",
    "\n",
    "dataset_parser = NuPlanParser()\n",
    "participants, actual_time_range = dataset_parser.parse_trajectory(\n",
    "    \"2021.08.26.18.24.36_veh-28_00578_00663.db\",\n",
    "    \"./tactics2d/data/trajectory_sample/NuPlan/data/cache/train_boston\",\n",
    ")\n",
    "\n",
    "frames = [t for t in actual_time_range if t < actual_time_range[0] + 10000]\n",
    "location = dataset_parser.get_location(\n",
    "    \"2021.08.26.18.24.36_veh-28_00578_00663.db\",\n",
    "    \"./tactics2d/data/trajectory_sample/NuPlan/data/cache/train_boston\",\n",
    ")\n",
    "map_ = dataset_parser.parse_map(configs[location][\"gpkg_path\"], map_folder)\n",
    "\n",
    "scenario_display.reset()\n",
    "ax_settings = {\"aspect\": \"equal\", \"xlim\": [331420, 331550], \"ylim\": [4689360, 4689470]}\n",
    "scenario_display.display(participants, map_, nuplan_interval, frames, (5, 4.2), **ax_settings)"
   ]
  },
  {
   "cell_type": "markdown",
   "metadata": {},
   "source": [
    "### WOMD"
   ]
  },
  {
   "cell_type": "code",
   "execution_count": null,
   "metadata": {},
   "outputs": [],
   "source": [
    "# plot WOMD sample scenario\n",
    "womd_fps = 20\n",
    "womd_interval = int(1000 / womd_fps)\n",
    "\n",
    "dataset_parser = WOMDParser()\n",
    "trajectories, actual_time_range = dataset_parser.parse_trajectory(\n",
    "    file=\"motion_data_one_scenario.tfrecord\", folder=\"./tactics2d/data/trajectory_sample/WOMD\"\n",
    ")\n",
    "\n",
    "map_ = dataset_parser.parse_map(\n",
    "    file=\"motion_data_one_scenario.tfrecord\", folder=\"./tactics2d/data/trajectory_sample/WOMD\"\n",
    ")\n",
    "\n",
    "scenario_display.reset()\n",
    "ax_settings = {\"aspect\": \"equal\", \"xlim\": [-7890, -7710], \"ylim\": [-6775, -6600]}\n",
    "animation = scenario_display.display(\n",
    "    trajectories, map_, womd_interval, actual_time_range, (5, 5.5), **ax_settings\n",
    ")\n",
    "animation\n",
    "animation.save(filename=\"./samples/imgs/womd_sample.gif\", writer=\"ffmpeg\", fps=womd_fps, dpi=300)"
   ]
  },
  {
   "cell_type": "markdown",
   "metadata": {},
   "source": [
    "## Plot of the datasets"
   ]
  },
  {
   "cell_type": "markdown",
   "metadata": {},
   "source": [
    "### HighD"
   ]
  },
  {
   "cell_type": "code",
   "execution_count": null,
   "metadata": {},
   "outputs": [],
   "source": [
    "demo_levelx(\n",
    "    \"highD\",\n",
    "    \"11_tracks.csv\",\n",
    "    \"./tactics2d/data/trajectory/highD/data\",\n",
    "    xlim=[0, 300],\n",
    "    ylim=[-35, 5],\n",
    "    export_to=\"./samples/imgs/highD_loc_1.gif\",\n",
    ")"
   ]
  },
  {
   "cell_type": "code",
   "execution_count": null,
   "metadata": {},
   "outputs": [],
   "source": [
    "demo_levelx(\n",
    "    \"highD\",\n",
    "    \"01_tracks.csv\",\n",
    "    \"./tactics2d/data/trajectory/highD/data\",\n",
    "    xlim=[0, 300],\n",
    "    ylim=[-25, 5],\n",
    "    export_to=\"./samples/imgs/highD_loc_2.gif\",\n",
    ")"
   ]
  },
  {
   "cell_type": "code",
   "execution_count": null,
   "metadata": {},
   "outputs": [],
   "source": [
    "demo_levelx(\n",
    "    \"highD\",\n",
    "    \"04_tracks.csv\",\n",
    "    \"./tactics2d/data/trajectory/highD/data\",\n",
    "    xlim=[0, 300],\n",
    "    ylim=[-30, 5],\n",
    "    export_to=\"./samples/imgs/highD_loc_3.gif\",\n",
    ")"
   ]
  },
  {
   "cell_type": "code",
   "execution_count": null,
   "metadata": {},
   "outputs": [],
   "source": [
    "demo_levelx(\n",
    "    \"highD\",\n",
    "    \"07_tracks.csv\",\n",
    "    \"./tactics2d/data/trajectory/highD/data\",\n",
    "    xlim=[0, 300],\n",
    "    ylim=[-30, 5],\n",
    "    export_to=\"./samples/imgs/highD_loc_4.gif\",\n",
    ")"
   ]
  },
  {
   "cell_type": "code",
   "execution_count": null,
   "metadata": {},
   "outputs": [],
   "source": [
    "demo_levelx(\n",
    "    \"highD\",\n",
    "    \"15_tracks.csv\",\n",
    "    \"./tactics2d/data/trajectory/highD/data\",\n",
    "    xlim=[0, 300],\n",
    "    ylim=[-25, 5],\n",
    "    time_range=(10000, 20000),\n",
    "    export_to=\"./samples/imgs/highD_loc_5.gif\",\n",
    ")"
   ]
  },
  {
   "cell_type": "code",
   "execution_count": null,
   "metadata": {},
   "outputs": [],
   "source": [
    "demo_levelx(\n",
    "    \"highD\",\n",
    "    \"58_tracks.csv\",\n",
    "    \"./tactics2d/data/trajectory/highD/data\",\n",
    "    xlim=[0, 300],\n",
    "    ylim=[-30, 10],\n",
    "    time_range=(10000, 20000),\n",
    "    export_to=\"./samples/imgs/highD_loc_6.gif\",\n",
    ")"
   ]
  },
  {
   "cell_type": "markdown",
   "metadata": {},
   "source": [
    "### InD"
   ]
  },
  {
   "cell_type": "code",
   "execution_count": null,
   "metadata": {},
   "outputs": [],
   "source": [
    "demo_levelx(\n",
    "    \"inD\",\n",
    "    \"07_tracks.csv\",\n",
    "    \"./tactics2d/data/trajectory/inD/data\",\n",
    "    xlim=[0, 120],\n",
    "    ylim=[-75, 20],\n",
    "    export_to=\"./samples/imgs/inD_loc_1.gif\",\n",
    ")"
   ]
  },
  {
   "cell_type": "code",
   "execution_count": null,
   "metadata": {},
   "outputs": [],
   "source": [
    "demo_levelx(\n",
    "    \"inD\",\n",
    "    \"18_tracks.csv\",\n",
    "    \"./tactics2d/data/trajectory/inD/data\",\n",
    "    xlim=[0, 150],\n",
    "    ylim=[-60, 0],\n",
    "    export_to=\"./samples/imgs/inD_loc_2.gif\",\n",
    ")"
   ]
  },
  {
   "cell_type": "code",
   "execution_count": null,
   "metadata": {},
   "outputs": [],
   "source": [
    "demo_levelx(\n",
    "    \"inD\",\n",
    "    \"30_tracks.csv\",\n",
    "    \"./tactics2d/data/trajectory/inD/data\",\n",
    "    xlim=[-25, 100],\n",
    "    ylim=[-75, 0],\n",
    "    export_to=\"./samples/imgs/inD_loc_3.gif\",\n",
    ")"
   ]
  },
  {
   "cell_type": "code",
   "execution_count": null,
   "metadata": {},
   "outputs": [],
   "source": [
    "demo_levelx(\n",
    "    \"inD\",\n",
    "    \"00_tracks.csv\",\n",
    "    \"./tactics2d/data/trajectory/inD/data\",\n",
    "    xlim=[50, 240],\n",
    "    ylim=[-125, 0],\n",
    "    export_to=\"./samples/imgs/inD_loc_4.gif\",\n",
    ")"
   ]
  },
  {
   "cell_type": "markdown",
   "metadata": {},
   "source": [
    "### RounD"
   ]
  },
  {
   "cell_type": "code",
   "execution_count": null,
   "metadata": {},
   "outputs": [],
   "source": [
    "demo_levelx(\n",
    "    \"rounD\",\n",
    "    \"02_tracks.csv\",\n",
    "    \"./tactics2d/data/trajectory/rounD/data\",\n",
    "    xlim=[0, 150],\n",
    "    ylim=[-100, 5],\n",
    "    export_to=\"./samples/imgs/rounD_loc_0.gif\",\n",
    ")"
   ]
  },
  {
   "cell_type": "code",
   "execution_count": null,
   "metadata": {},
   "outputs": [],
   "source": [
    "demo_levelx(\n",
    "    \"rounD\",\n",
    "    \"00_tracks.csv\",\n",
    "    \"./tactics2d/data/trajectory/rounD/data\",\n",
    "    xlim=[50, 200],\n",
    "    ylim=[-150, -25],\n",
    "    export_to=\"./samples/imgs/rounD_loc_1.gif\",\n",
    ")"
   ]
  },
  {
   "cell_type": "code",
   "execution_count": null,
   "metadata": {},
   "outputs": [],
   "source": [
    "demo_levelx(\n",
    "    \"rounD\",\n",
    "    \"01_tracks.csv\",\n",
    "    \"./tactics2d/data/trajectory/rounD/data\",\n",
    "    xlim=[100, 175],\n",
    "    ylim=[-125, -25],\n",
    "    export_to=\"./samples/imgs/rounD_loc_2.gif\",\n",
    ")"
   ]
  },
  {
   "cell_type": "markdown",
   "metadata": {},
   "source": [
    "### ExiD"
   ]
  },
  {
   "cell_type": "code",
   "execution_count": null,
   "metadata": {},
   "outputs": [],
   "source": [
    "demo_levelx(\n",
    "    \"exiD\",\n",
    "    \"00_tracks.csv\",\n",
    "    \"./tactics2d/data/trajectory/exiD/data\",\n",
    "    xlim=[300, 600],\n",
    "    ylim=[-500, -100],\n",
    "    export_to=\"./samples/imgs/exiD_loc_0.gif\",\n",
    ")"
   ]
  },
  {
   "cell_type": "code",
   "execution_count": null,
   "metadata": {},
   "outputs": [],
   "source": [
    "demo_levelx(\n",
    "    \"exiD\",\n",
    "    \"19_tracks.csv\",\n",
    "    \"./tactics2d/data/trajectory/exiD/data\",\n",
    "    xlim=[310, 600],\n",
    "    ylim=[-390, -90],\n",
    "    export_to=\"./samples/imgs/exiD_loc_1.gif\",\n",
    ")"
   ]
  },
  {
   "cell_type": "code",
   "execution_count": null,
   "metadata": {},
   "outputs": [],
   "source": [
    "demo_levelx(\n",
    "    \"exiD\",\n",
    "    \"39_tracks.csv\",\n",
    "    \"./tactics2d/data/trajectory/exiD/data\",\n",
    "    xlim=[550, 880],\n",
    "    ylim=[-600, -200],\n",
    "    export_to=\"./samples/imgs/exiD_loc_2.gif\",\n",
    ")"
   ]
  },
  {
   "cell_type": "code",
   "execution_count": null,
   "metadata": {},
   "outputs": [],
   "source": [
    "demo_levelx(\n",
    "    \"exiD\",\n",
    "    \"53_tracks.csv\",\n",
    "    \"./tactics2d/data/trajectory/exiD/data\",\n",
    "    xlim=[150, 550],\n",
    "    ylim=[-340, -50],\n",
    "    export_to=\"./samples/imgs/exiD_loc_3.gif\",\n",
    ")"
   ]
  },
  {
   "cell_type": "code",
   "execution_count": null,
   "metadata": {},
   "outputs": [],
   "source": [
    "demo_levelx(\n",
    "    \"exiD\",\n",
    "    \"61_tracks.csv\",\n",
    "    \"./tactics2d/data/trajectory/exiD/data\",\n",
    "    xlim=[200, 600],\n",
    "    ylim=[-350, -50],\n",
    "    export_to=\"./samples/imgs/exiD_loc_4.gif\",\n",
    ")"
   ]
  },
  {
   "cell_type": "code",
   "execution_count": null,
   "metadata": {},
   "outputs": [],
   "source": [
    "demo_levelx(\n",
    "    \"exiD\",\n",
    "    \"73_tracks.csv\",\n",
    "    \"./tactics2d/data/trajectory/exiD/data\",\n",
    "    xlim=[150, 650],\n",
    "    ylim=[-300, -140],\n",
    "    export_to=\"./samples/imgs/exiD_loc_5.gif\",\n",
    ")"
   ]
  },
  {
   "cell_type": "code",
   "execution_count": null,
   "metadata": {},
   "outputs": [],
   "source": [
    "demo_levelx(\n",
    "    \"exiD\",\n",
    "    \"78_tracks.csv\",\n",
    "    \"./tactics2d/data/trajectory/exiD/data\",\n",
    "    xlim=[150, 600],\n",
    "    ylim=[-240, -130],\n",
    "    export_to=\"./samples/imgs/exiD_loc_6.gif\",\n",
    ")"
   ]
  },
  {
   "cell_type": "markdown",
   "metadata": {},
   "source": [
    "### Argoverse"
   ]
  },
  {
   "cell_type": "code",
   "execution_count": null,
   "metadata": {},
   "outputs": [],
   "source": [
    "demo_argoverse(\n",
    "    \"scenario_0a51f8f5-3e8a-4d40-87e6-cb325c9c44ce.parquet\",\n",
    "    \"log_map_archive_0a51f8f5-3e8a-4d40-87e6-cb325c9c44ce.json\",\n",
    "    \"./tactics2d/data/trajectory/Argoverse/test/0a51f8f5-3e8a-4d40-87e6-cb325c9c44ce\",\n",
    "    xlim=[3400, 3700],\n",
    "    ylim=[-2000, -1800],\n",
    "    export_to=\"./samples/imgs/argoverse_sample.gif\",\n",
    ")"
   ]
  },
  {
   "cell_type": "markdown",
   "metadata": {},
   "source": [
    "### INTERACTION"
   ]
  },
  {
   "cell_type": "code",
   "execution_count": null,
   "metadata": {},
   "outputs": [],
   "source": [
    "demo_interaction(\n",
    "    \"vehicle_tracks_000.csv\",\n",
    "    \"./tactics2d/data/trajectory/INTERACTION/recorded_trackfiles/DR_CHN_Merging_ZS\",\n",
    "    \"DR_CHN_Merging_ZS\",\n",
    "    xlim=[1000, 1140],\n",
    "    ylim=[925, 975],\n",
    "    export_to=\"./samples/imgs/DR_CHN_Merging_ZS.gif\",\n",
    ")"
   ]
  },
  {
   "cell_type": "code",
   "execution_count": null,
   "metadata": {},
   "outputs": [],
   "source": [
    "demo_interaction(\n",
    "    \"vehicle_tracks_000.csv\",\n",
    "    \"./tactics2d/data/trajectory/INTERACTION/recorded_trackfiles/DR_CHN_Roundabout_LN\",\n",
    "    \"DR_CHN_Roundabout_LN\",\n",
    "    xlim=[920, 1070],\n",
    "    ylim=[960, 1050],\n",
    "    export_to=\"./samples/imgs/DR_CHN_Roundabout_LN.gif\",\n",
    ")"
   ]
  },
  {
   "cell_type": "code",
   "execution_count": null,
   "metadata": {},
   "outputs": [],
   "source": [
    "demo_interaction(\n",
    "    \"vehicle_tracks_000.csv\",\n",
    "    \"./tactics2d/data/trajectory/INTERACTION/recorded_trackfiles/DR_DEU_Merging_MT\",\n",
    "    \"DR_DEU_Merging_MT\",\n",
    "    xlim=[890, 1005],\n",
    "    ylim=[1000, 1015],\n",
    "    export_to=\"./samples/imgs/DR_DEU_Merging_MT.gif\",\n",
    ")"
   ]
  },
  {
   "cell_type": "code",
   "execution_count": null,
   "metadata": {},
   "outputs": [],
   "source": [
    "demo_interaction(\n",
    "    \"vehicle_tracks_000.csv\",\n",
    "    \"./tactics2d/data/trajectory/INTERACTION/recorded_trackfiles/DR_DEU_Roundabout_OF\",\n",
    "    \"DR_DEU_Roundabout_OF\",\n",
    "    xlim=[950, 1050],\n",
    "    ylim=[960, 1030],\n",
    "    export_to=\"./samples/imgs/DR_DEU_Roundabout_OF.gif\",\n",
    ")"
   ]
  },
  {
   "cell_type": "code",
   "execution_count": null,
   "metadata": {},
   "outputs": [],
   "source": [
    "demo_interaction(\n",
    "    \"vehicle_tracks_000.csv\",\n",
    "    \"./tactics2d/data/trajectory/INTERACTION/recorded_trackfiles/DR_USA_Intersection_EP0\",\n",
    "    \"DR_USA_Intersection_EP0\",\n",
    "    xlim=[950, 1050],\n",
    "    ylim=[965, 1020],\n",
    "    export_to=\"./samples/imgs/DR_USA_Intersection_EP0.gif\",\n",
    ")"
   ]
  },
  {
   "cell_type": "code",
   "execution_count": null,
   "metadata": {},
   "outputs": [],
   "source": [
    "demo_interaction(\n",
    "    \"vehicle_tracks_000.csv\",\n",
    "    \"./tactics2d/data/trajectory/INTERACTION/recorded_trackfiles/DR_USA_Intersection_EP1\",\n",
    "    \"DR_USA_Intersection_EP1\",\n",
    "    xlim=[950, 1095],\n",
    "    ylim=[950, 1020],\n",
    "    export_to=\"./samples/imgs/DR_USA_Intersection_EP1.gif\",\n",
    ")"
   ]
  },
  {
   "cell_type": "code",
   "execution_count": null,
   "metadata": {},
   "outputs": [],
   "source": [
    "demo_interaction(\n",
    "    \"vehicle_tracks_000.csv\",\n",
    "    \"./tactics2d/data/trajectory/INTERACTION/recorded_trackfiles/DR_USA_Intersection_GL\",\n",
    "    \"DR_USA_Intersection_GL\",\n",
    "    xlim=[940, 1040],\n",
    "    ylim=[940, 1020],\n",
    "    export_to=\"./samples/imgs/DR_USA_Intersection_GL.gif\",\n",
    ")"
   ]
  },
  {
   "cell_type": "code",
   "execution_count": null,
   "metadata": {},
   "outputs": [],
   "source": [
    "demo_interaction(\n",
    "    \"vehicle_tracks_000.csv\",\n",
    "    \"./tactics2d/data/trajectory/INTERACTION/recorded_trackfiles/DR_USA_Intersection_MA\",\n",
    "    \"DR_USA_Intersection_MA\",\n",
    "    xlim=[970, 1050],\n",
    "    ylim=[960, 1040],\n",
    "    export_to=\"./samples/imgs/DR_USA_Intersection_MA.gif\",\n",
    ")"
   ]
  },
  {
   "cell_type": "code",
   "execution_count": null,
   "metadata": {},
   "outputs": [],
   "source": [
    "demo_interaction(\n",
    "    \"vehicle_tracks_000.csv\",\n",
    "    \"./tactics2d/data/trajectory/INTERACTION/recorded_trackfiles/DR_USA_Roundabout_EP\",\n",
    "    \"DR_USA_Roundabout_EP\",\n",
    "    xlim=[950, 1095],\n",
    "    ylim=[980, 1050],\n",
    "    export_to=\"./samples/imgs/DR_USA_Roundabout_EP.gif\",\n",
    ")"
   ]
  },
  {
   "cell_type": "code",
   "execution_count": null,
   "metadata": {},
   "outputs": [],
   "source": [
    "demo_interaction(\n",
    "    \"vehicle_tracks_000.csv\",\n",
    "    \"./tactics2d/data/trajectory/INTERACTION/recorded_trackfiles/DR_USA_Roundabout_FT\",\n",
    "    \"DR_USA_Roundabout_FT\",\n",
    "    xlim=[960, 1060],\n",
    "    ylim=[970, 1025],\n",
    "    export_to=\"./samples/imgs/DR_USA_Roundabout_FT.gif\",\n",
    ")"
   ]
  },
  {
   "cell_type": "code",
   "execution_count": null,
   "metadata": {},
   "outputs": [],
   "source": [
    "demo_interaction(\n",
    "    \"vehicle_tracks_001.csv\",\n",
    "    \"./tactics2d/data/trajectory/INTERACTION/recorded_trackfiles/DR_USA_Roundabout_SR\",\n",
    "    \"DR_USA_Roundabout_SR\",\n",
    "    xlim=[910, 1050],\n",
    "    ylim=[980, 1060],\n",
    "    export_to=\"./samples/imgs/DR_USA_Roundabout_SR.gif\",\n",
    ")"
   ]
  },
  {
   "cell_type": "code",
   "execution_count": null,
   "metadata": {},
   "outputs": [],
   "source": [
    "demo_interaction(\n",
    "    \"vehicle_tracks_001.csv\",\n",
    "    \"./tactics2d/data/trajectory/INTERACTION/recorded_trackfiles/TC_BGR_Intersection_VA\",\n",
    "    \"TC_BGR_Intersection_VA\",\n",
    "    xlim=[965, 1025],\n",
    "    ylim=[975, 1035],\n",
    "    export_to=\"./samples/imgs/DR_BGR_Intersection_VA.gif\",\n",
    ")"
   ]
  },
  {
   "cell_type": "markdown",
   "metadata": {},
   "source": [
    "### NuPlan"
   ]
  },
  {
   "cell_type": "code",
   "execution_count": null,
   "metadata": {},
   "outputs": [],
   "source": [
    "# plot NuPlan sample scenario\n",
    "nuplan_fps = 20\n",
    "nuplan_interval = int(1000 / nuplan_fps)\n",
    "\n",
    "dataset_parser = NuPlanParser()\n",
    "participants, actual_time_range = dataset_parser.parse_trajectory(\n",
    "    \"2021.08.26.18.24.36_veh-28_00578_00663.db\",\n",
    "    \"./tactics2d/data/trajectory/NuPlan/data/cache/train_boston\",\n",
    ")\n",
    "\n",
    "frames = [t for t in actual_time_range if t < actual_time_range[0] + 10000]\n",
    "location = dataset_parser.get_location(\n",
    "    \"2021.08.26.18.24.36_veh-28_00578_00663.db\",\n",
    "    \"./tactics2d/data/trajectory_sample/NuPlan/data/cache/train_boston\",\n",
    ")\n",
    "map_ = dataset_parser.parse_map(configs[location][\"gpkg_path\"], map_folder)\n",
    "\n",
    "scenario_display.reset()\n",
    "ax_settings = {\"aspect\": \"equal\", \"xlim\": [331420, 331550], \"ylim\": [4689360, 4689470]}\n",
    "animation = scenario_display.display(\n",
    "    participants, map_, nuplan_interval, frames, (5, 4.2), **ax_settings\n",
    ")\n",
    "animation.save(\n",
    "    filename=\"./samples/imgs/nuplan_boston.gif\", writer=\"ffmpeg\", fps=nuplan_fps, dpi=300\n",
    ")"
   ]
  },
  {
   "cell_type": "code",
   "execution_count": null,
   "metadata": {},
   "outputs": [],
   "source": [
    "dataset_parser = NuPlanParser()\n",
    "participants, actual_time_range = dataset_parser.parse_trajectory(\n",
    "    \"2021.08.17.13.15.12_veh-45_00324_00489.db\",\n",
    "    \"./tactics2d/data/trajectory/NuPlan/data/cache/train_pittsburgh/\",\n",
    ")\n",
    "\n",
    "frames = [t for t in actual_time_range if t < actual_time_range[0] + 10000]\n",
    "location = dataset_parser.get_location(\n",
    "    \"2021.08.17.13.15.12_veh-45_00324_00489.db\",\n",
    "    \"./tactics2d/data/trajectory/NuPlan/data/cache/train_pittsburgh/\",\n",
    ")\n",
    "map_ = dataset_parser.parse_map(configs[location][\"gpkg_path\"], map_folder)\n",
    "\n",
    "x_min = np.inf\n",
    "x_max = -np.inf\n",
    "y_min = np.inf\n",
    "y_max = -np.inf\n",
    "\n",
    "for participant in participants.values():\n",
    "    for state in participant.trajectory.history_states.values():\n",
    "        x, y = state.location\n",
    "        x_min = min(x_min, x)\n",
    "        x_max = max(x_max, x)\n",
    "        y_min = min(y_min, y)\n",
    "        y_max = max(y_max, y)\n",
    "\n",
    "print(x_min, x_max, y_min, y_max)\n",
    "\n",
    "scenario_display.reset()\n",
    "ax_settings = {\"aspect\": \"equal\", \"xlim\": [x_min, x_max], \"ylim\": [y_min, y_max]}\n",
    "scenario_display.display(participants, map_, nuplan_interval, frames, (5, 4.2), **ax_settings)\n",
    "# animation = scenario_display.display(participants, map_, nuplan_interval, frames, (5, 4.2), **ax_settings)\n",
    "# animation.save(filename=\"./samples/imgs/nuplan_pittsburghgif\", writer=\"ffmpeg\", fps=nuplan_fps, dpi=300)"
   ]
  },
  {
   "cell_type": "code",
   "execution_count": null,
   "metadata": {},
   "outputs": [],
   "source": [
    "dataset_parser = NuPlanParser()\n",
    "participants, actual_time_range = dataset_parser.parse_trajectory(\n",
    "    \"2021.08.18.06.04.33_veh-51_00183_00300.db\",\n",
    "    \"./tactics2d/data/trajectory/NuPlan/data/cache/train_singapore/\",\n",
    ")\n",
    "\n",
    "frames = [t for t in actual_time_range if t < actual_time_range[0] + 10000]\n",
    "location = dataset_parser.get_location(\n",
    "    \"2021.08.18.06.04.33_veh-51_00183_00300.db\",\n",
    "    \"./tactics2d/data/trajectory/NuPlan/data/cache/train_singapore/\",\n",
    ")\n",
    "map_ = dataset_parser.parse_map(configs[location][\"gpkg_path\"], map_folder)\n",
    "\n",
    "x_min = np.inf\n",
    "x_max = -np.inf\n",
    "y_min = np.inf\n",
    "y_max = -np.inf\n",
    "\n",
    "for participant in participants.values():\n",
    "    for state in participant.trajectory.history_states.values():\n",
    "        x, y = state.location\n",
    "        x_min = min(x_min, x)\n",
    "        x_max = max(x_max, x)\n",
    "        y_min = min(y_min, y)\n",
    "        y_max = max(y_max, y)\n",
    "\n",
    "print(x_min, x_max, y_min, y_max)\n",
    "\n",
    "scenario_display.reset()\n",
    "ax_settings = {\"aspect\": \"equal\", \"xlim\": [365021, 365314], \"ylim\": [142988, 143251]}\n",
    "scenario_display.display(participants, map_, nuplan_interval, frames, (5, 4.2), **ax_settings)\n",
    "# animation = scenario_display.display(participants, map_, nuplan_interval, frames, (5, 4.2), **ax_settings)\n",
    "# animation.save(filename=\"./samples/imgs/nuplan_pittsburghgif\", writer=\"ffmpeg\", fps=nuplan_fps, dpi=300)"
   ]
  },
  {
   "cell_type": "code",
   "execution_count": null,
   "metadata": {},
   "outputs": [],
   "source": []
  }
 ],
 "metadata": {
  "kernelspec": {
   "display_name": "tactics2d",
   "language": "python",
   "name": "python3"
  },
  "language_info": {
   "codemirror_mode": {
    "name": "ipython",
    "version": 3
   },
   "file_extension": ".py",
   "mimetype": "text/x-python",
   "name": "python",
   "nbconvert_exporter": "python",
   "pygments_lexer": "ipython3",
   "version": "3.9.19"
  }
 },
 "nbformat": 4,
 "nbformat_minor": 2
}
