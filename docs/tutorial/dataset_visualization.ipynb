{
 "cells": [
  {
   "cell_type": "markdown",
   "metadata": {},
   "source": [
    "# Dataset Visualization\n",
    "\n",
    "[![Open in Colab](https://colab.research.google.com/assets/colab-badge.svg)](https://colab.research.google.com/github/WoodOxen/tactics2d/blob/master/docs/tutorial/dataset_visualization.ipynb)\n",
    "\n",
    "This notebook records the codes that reproduce the demos in [documentation/dataset-overview](https://tactics2d.readthedocs.io/en/latest/dataset-overview). The first section is executable because it calls the data from the sample dataset folder. The second section needs the users to download the corresponding datasets to display results."
   ]
  },
  {
   "cell_type": "code",
   "execution_count": null,
   "metadata": {},
   "outputs": [],
   "source": [
    "%%capture\n",
    "!pip install tactics2d\n",
    "!tqdm"
   ]
  },
  {
   "cell_type": "code",
   "execution_count": null,
   "metadata": {},
   "outputs": [],
   "source": [
    "import tactics2d\n",
    "\n",
    "print(tactics2d.__version__)"
   ]
  },
  {
   "cell_type": "code",
   "execution_count": null,
   "metadata": {},
   "outputs": [],
   "source": [
    "%matplotlib notebook\n",
    "\n",
    "import os\n",
    "import requests\n",
    "import warnings\n",
    "\n",
    "warnings.filterwarnings(\"ignore\")\n",
    "\n",
    "import json\n",
    "import xml.etree.ElementTree as ET\n",
    "\n",
    "from tqdm import tqdm\n",
    "import numpy as np\n",
    "import matplotlib as mpl\n",
    "\n",
    "from tactics2d.dataset_parser import (\n",
    "    ArgoverseParser,\n",
    "    DLPParser,\n",
    "    InteractionParser,\n",
    "    LevelXParser,\n",
    "    NuPlanParser,\n",
    "    WOMDParser,\n",
    ")\n",
    "from tactics2d.map.parser import OSMParser\n",
    "from tactics2d.traffic.scenario_display import ScenarioDisplay"
   ]
  },
  {
   "cell_type": "code",
   "execution_count": null,
   "metadata": {},
   "outputs": [],
   "source": [
    "mpl.rcParams.update(\n",
    "    {\n",
    "        \"figure.dpi\": 300,\n",
    "        \"figure.frameon\": False,\n",
    "        \"font.family\": \"Dejavu Serif\",\n",
    "        \"font.size\": 10,\n",
    "        \"font.stretch\": \"semi-expanded\",\n",
    "        \"animation.html\": \"jshtml\",\n",
    "        \"animation.embed_limit\": 5000,\n",
    "    }\n",
    ")"
   ]
  },
  {
   "cell_type": "code",
   "execution_count": null,
   "metadata": {},
   "outputs": [],
   "source": [
    "def download_file(url, filename):\n",
    "    if not os.path.exists(filename):\n",
    "        r = requests.get(url)\n",
    "        if r.status_code == 200:\n",
    "            total_size = int(r.headers.get(\"content-length\", 0))\n",
    "            block_size = 1024\n",
    "\n",
    "        progress_bar = tqdm(total=total_size, unit=\"iB\", unit_scale=True)\n",
    "        with open(filename, \"wb\") as f:\n",
    "            for data in r.iter_content(block_size):\n",
    "                progress_bar.update(len(data))\n",
    "                f.write(data)\n",
    "        progress_bar.close()"
   ]
  },
  {
   "cell_type": "code",
   "execution_count": null,
   "metadata": {},
   "outputs": [],
   "source": [
    "config_path = \"./map.config\"\n",
    "\n",
    "download_file(\n",
    "    \"https://raw.githubusercontent.com/WoodOxen/tactics2d/master/tactics2d/dataset_parser/map.config\",\n",
    "    config_path,\n",
    ")\n",
    "\n",
    "with open(config_path, \"r\") as f:\n",
    "    configs = json.load(f)\n",
    "\n",
    "scenario_display = ScenarioDisplay()\n",
    "lanelet2_parser = OSMParser(lanelet2=True)"
   ]
  },
  {
   "cell_type": "markdown",
   "metadata": {},
   "source": [
    "## 1. Sample scenario demostration"
   ]
  },
  {
   "cell_type": "markdown",
   "metadata": {},
   "source": [
    "### Argoverse 2"
   ]
  },
  {
   "cell_type": "code",
   "execution_count": null,
   "metadata": {},
   "outputs": [],
   "source": [
    "download_file(\n",
    "    \"https://raw.githubusercontent.com/SCP-CN-001/trajectory_dataset_support/main/trajectory_sample/Argoverse/train/0a0a2bb7-c4f4-44cd-958a-9ee15cb34aca/log_map_archive_0a0a2bb7-c4f4-44cd-958a-9ee15cb34aca.json\",\n",
    "    \"log_map_archive_0a0a2bb7-c4f4-44cd-958a-9ee15cb34aca.json\",\n",
    ")\n",
    "\n",
    "download_file(\n",
    "    \"https://raw.githubusercontent.com/SCP-CN-001/trajectory_dataset_support/main/trajectory_sample/Argoverse/train/0a0a2bb7-c4f4-44cd-958a-9ee15cb34aca/scenario_0a0a2bb7-c4f4-44cd-958a-9ee15cb34aca.parquet\",\n",
    "    \"scenario_0a0a2bb7-c4f4-44cd-958a-9ee15cb34aca.parquet\",\n",
    ")\n"
   ]
  },
  {
   "cell_type": "code",
   "execution_count": null,
   "metadata": {},
   "outputs": [],
   "source": [
    "def demo_argoverse(\n",
    "    file, map_file, folder, xlim=None, ylim=None, fps=10, interval=100, export_to=None\n",
    "):\n",
    "    dataset_parser = ArgoverseParser()\n",
    "    trajectories, actual_time_range = dataset_parser.parse_trajectory(file, folder)\n",
    "\n",
    "    frames = np.arange(actual_time_range[0], actual_time_range[1], interval)\n",
    "\n",
    "    map_ = dataset_parser.parse_map(map_file, folder)\n",
    "\n",
    "    scenario_display = ScenarioDisplay()\n",
    "    scenario_display.reset()\n",
    "    if xlim is None or ylim is None:\n",
    "        ax_settings = {\"aspect\": \"equal\"}\n",
    "        fig_size = (4, 3)\n",
    "    else:\n",
    "        ax_settings = {\"aspect\": \"equal\", \"xlim\": xlim, \"ylim\": ylim}\n",
    "        fig_size = (4, round((ylim[1] - ylim[0]) / (xlim[1] - xlim[0]) * 4, 1))\n",
    "\n",
    "    animation = scenario_display.display(\n",
    "        trajectories, map_, interval, frames, fig_size, **ax_settings\n",
    "    )\n",
    "\n",
    "    if export_to is None:\n",
    "        return animation\n",
    "    else:\n",
    "        animation.save(filename=export_to, writer=\"ffmpeg\", fps=fps, dpi=300)"
   ]
  },
  {
   "cell_type": "code",
   "execution_count": null,
   "metadata": {},
   "outputs": [],
   "source": [
    "# plot Argoverse 2 sample scenario\n",
    "demo_argoverse(\n",
    "    \"scenario_0a0a2bb7-c4f4-44cd-958a-9ee15cb34aca.parquet\",\n",
    "    \"log_map_archive_0a0a2bb7-c4f4-44cd-958a-9ee15cb34aca.json\",\n",
    "    \"./\",\n",
    "    xlim=[1800, 2100],\n",
    "    ylim=[500, 750],\n",
    ")"
   ]
  },
  {
   "cell_type": "markdown",
   "metadata": {},
   "source": [
    "### DLP"
   ]
  },
  {
   "cell_type": "code",
   "execution_count": null,
   "metadata": {},
   "outputs": [],
   "source": [
    "download_file(\n",
    "    \"https://datadryad.org/stash/downloads/file_stream/2654062\",\n",
    "    \"DJI_0012_agents.json\"\n",
    ")\n",
    "download_file(\n",
    "    \"https://datadryad.org/stash/downloads/file_stream/2654066\",\n",
    "    \"DJI_0012_frames.json\"\n",
    ")\n",
    "download_file(\n",
    "    \"https://datadryad.org/stash/downloads/file_stream/2654081\",\n",
    "    \"DJI_0012_instances.json\"\n",
    ")\n",
    "download_file(\n",
    "    \"https://datadryad.org/stash/downloads/file_stream/2654064\",\n",
    "    \"DJI_0012_obstacles.json\"\n",
    ")\n",
    "download_file(\n",
    "    \"https://raw.githubusercontent.com/SCP-CN-001/trajectory_dataset_support/main/map/DLP/DLP.osm\",\n",
    "    \"DLP.osm\"\n",
    ")"
   ]
  },
  {
   "cell_type": "code",
   "execution_count": null,
   "metadata": {},
   "outputs": [],
   "source": [
    "# plot DLP sample scenario\n",
    "dlp_time_range = (0, 20000)\n",
    "dlp_fps = 25\n",
    "dlp_interval = int(1000 / dlp_fps)\n",
    "\n",
    "dataset_parser = DLPParser()\n",
    "trajectories, actual_time_range = dataset_parser.parse_trajectory(\n",
    "    \"DJI_0012_agents.json\", \"./\", dlp_time_range\n",
    ")\n",
    "\n",
    "frames = np.arange(actual_time_range[0], actual_time_range[1], dlp_interval)\n",
    "\n",
    "map_config = configs[\"DLP\"]\n",
    "map_path = \"./DLP.osm\"\n",
    "map_root = ET.parse(map_path).getroot()\n",
    "map_ = lanelet2_parser.parse(map_root, map_config[\"project_rule\"], map_config[\"gps_origin\"], map_config)\n",
    "\n",
    "scenario_display.reset()\n",
    "ax_settings = {\"aspect\": \"equal\", \"xlim\": [-5, 145], \"ylim\": [0, 80]}\n",
    "scenario_display.display(trajectories, map_, dlp_interval, frames, (5, 2.7))\n",
    "# animation.save(filename=\"./samples/imgs/dlp_sample.gif\", writer=\"ffmpeg\", fps=dlp_fps, dpi=300)"
   ]
  },
  {
   "cell_type": "markdown",
   "metadata": {},
   "source": [
    "### INTERACTION"
   ]
  },
  {
   "cell_type": "code",
   "execution_count": null,
   "metadata": {},
   "outputs": [],
   "source": [
    "download_file(\n",
    "    \"https://raw.githubusercontent.com/SCP-CN-001/trajectory_dataset_support/main/map/INTERACTION/DR_USA_Intersection_EP0.osm\",\n",
    "    \"DR_USA_Intersection_EP0.osm\"\n",
    ")\n",
    "download_file(\n",
    "    \"https://raw.githubusercontent.com/SCP-CN-001/trajectory_dataset_support/main/trajectory_sample/INTERACTION/recorded_trackfiles/DR_USA_Intersection_EP0/pedestrian_tracks_000.csv\",\n",
    "    \"pedestrian_tracks_000.csv\"\n",
    ")\n",
    "download_file(\n",
    "    \"https://raw.githubusercontent.com/SCP-CN-001/trajectory_dataset_support/main/trajectory_sample/INTERACTION/recorded_trackfiles/DR_USA_Intersection_EP0/vehicle_tracks_000.csv\",\n",
    "    \"vehicle_tracks_000.csv\"\n",
    ")"
   ]
  },
  {
   "cell_type": "code",
   "execution_count": null,
   "metadata": {},
   "outputs": [],
   "source": [
    "def demo_interaction(\n",
    "    file,\n",
    "    folder,\n",
    "    map_name,\n",
    "    xlim=None,\n",
    "    ylim=None,\n",
    "    time_range=(0, 10000),\n",
    "    fps=10,\n",
    "    interval=100,\n",
    "    export_to=None,\n",
    "):\n",
    "    dataset_parser = InteractionParser()\n",
    "    trajectories, actual_time_range = dataset_parser.parse_trajectory(file, folder, time_range)\n",
    "\n",
    "    frames = np.arange(actual_time_range[0], actual_time_range[1], interval)\n",
    "\n",
    "    map_config = configs[map_name]\n",
    "    map_path = map_config[\"osm_path\"].split(\"/\")[-1]\n",
    "    map_root = ET.parse(map_path).getroot()\n",
    "    map_ = lanelet2_parser.parse(map_root, map_config[\"project_rule\"], map_config[\"gps_origin\"], map_config)\n",
    "\n",
    "    scenario_display = ScenarioDisplay()\n",
    "    scenario_display.reset()\n",
    "    if xlim is None or ylim is None:\n",
    "        ax_settings = {\"aspect\": \"equal\"}\n",
    "        fig_size = (4, 3)\n",
    "    else:\n",
    "        ax_settings = {\"aspect\": \"equal\", \"xlim\": xlim, \"ylim\": ylim}\n",
    "        fig_size = (4, round((ylim[1] - ylim[0]) / (xlim[1] - xlim[0]) * 4, 1))\n",
    "\n",
    "    animation = scenario_display.display(\n",
    "        trajectories, map_, interval, frames, fig_size, **ax_settings\n",
    "    )\n",
    "\n",
    "    if export_to is None:\n",
    "        return animation\n",
    "    else:\n",
    "        animation.save(filename=export_to, writer=\"ffmpeg\", fps=fps, dpi=300)"
   ]
  },
  {
   "cell_type": "code",
   "execution_count": null,
   "metadata": {},
   "outputs": [],
   "source": [
    "# plot INTERACTION sample scenario\n",
    "demo_interaction(\n",
    "    \"vehicle_tracks_000.csv\",\n",
    "    \"./\",\n",
    "    \"DR_USA_Intersection_EP0\",\n",
    "    xlim=[945, 1050],\n",
    "    ylim=[965, 1025],\n",
    ")"
   ]
  },
  {
   "cell_type": "markdown",
   "metadata": {},
   "source": [
    "### WOMD"
   ]
  },
  {
   "cell_type": "code",
   "execution_count": null,
   "metadata": {},
   "outputs": [],
   "source": [
    "# plot WOMD sample scenario\n",
    "womd_fps = 20\n",
    "womd_interval = int(1000 / womd_fps)\n",
    "\n",
    "dataset_parser = WOMDParser()\n",
    "trajectories, actual_time_range = dataset_parser.parse_trajectory(\n",
    "    file=\"motion_data_one_scenario.tfrecord\", folder=\"./tactics2d/data/trajectory_sample/WOMD\"\n",
    ")\n",
    "\n",
    "map_ = dataset_parser.parse_map(\n",
    "    file=\"motion_data_one_scenario.tfrecord\", folder=\"./tactics2d/data/trajectory_sample/WOMD\"\n",
    ")\n",
    "\n",
    "scenario_display.reset()\n",
    "ax_settings = {\"aspect\": \"equal\", \"xlim\": [-7890, -7710], \"ylim\": [-6775, -6600]}\n",
    "animation = scenario_display.display(\n",
    "    trajectories, map_, womd_interval, actual_time_range, (5, 5.5), **ax_settings\n",
    ")\n",
    "animation\n",
    "animation.save(filename=\"./samples/imgs/womd_sample.gif\", writer=\"ffmpeg\", fps=womd_fps, dpi=300)"
   ]
  },
  {
   "cell_type": "markdown",
   "metadata": {},
   "source": [
    "## Plot of the datasets\n",
    "\n",
    "This section provides the full code to plot all demos in the documentation. To run this section, the users need to download the corresponding datasets and put them in the `data` folder."
   ]
  },
  {
   "cell_type": "markdown",
   "metadata": {},
   "source": [
    "## LevelX\n",
    "\n",
    "According to the request from the official data provider, the data is not allowed to be shared. The users can download the data from the official website and put it in the `data` folder. The data is available at [HighD website](https://levelxdata.com/highd-dataset/)."
   ]
  },
  {
   "cell_type": "code",
   "execution_count": null,
   "metadata": {},
   "outputs": [],
   "source": [
    "def demo_levelx(\n",
    "    dataset,\n",
    "    file,\n",
    "    folder,\n",
    "    xlim=None,\n",
    "    ylim=None,\n",
    "    time_range=(0, 10000),\n",
    "    fps=25,\n",
    "    interval=40,\n",
    "    export_to=None,\n",
    "):\n",
    "    dataset_parser = LevelXParser(dataset)\n",
    "    trajectories, actual_time_range = dataset_parser.parse_trajectory(file, folder, time_range)\n",
    "\n",
    "    frames = np.arange(actual_time_range[0], actual_time_range[1], interval)\n",
    "\n",
    "    location = dataset_parser.get_location(file, folder)\n",
    "    map_name = f\"{dataset}_{location}\"\n",
    "\n",
    "    map_config = configs[map_name]\n",
    "    map_path = os.path.join(map_folder, map_config[\"osm_path\"])\n",
    "    map_root = ET.parse(map_path).getroot()\n",
    "    lanelet2_parser = OSMParser(lanelet2=True)\n",
    "    map_ = lanelet2_parser.parse(\n",
    "        map_root, map_config[\"project_rule\"], map_config[\"gps_origin\"], map_config\n",
    "    )\n",
    "\n",
    "    scenario_display = ScenarioDisplay()\n",
    "    scenario_display.reset()\n",
    "    if xlim is None or ylim is None:\n",
    "        ax_settings = {\"aspect\": \"equal\"}\n",
    "        fig_size = (4, 3)\n",
    "    else:\n",
    "        ax_settings = {\"aspect\": \"equal\", \"xlim\": xlim, \"ylim\": ylim}\n",
    "        fig_size = (4, round((ylim[1] - ylim[0]) / (xlim[1] - xlim[0]) * 4, 1))\n",
    "\n",
    "    animation = scenario_display.display(\n",
    "        trajectories, map_, interval, frames, fig_size, **ax_settings\n",
    "    )\n",
    "\n",
    "    if export_to is None:\n",
    "        return animation\n",
    "    else:\n",
    "        animation.save(filename=export_to, writer=\"ffmpeg\", fps=fps, dpi=300)"
   ]
  },
  {
   "cell_type": "markdown",
   "metadata": {},
   "source": [
    "### HighD\n",
    "\n",
    "Plot sample data from the HighD dataset."
   ]
  },
  {
   "cell_type": "code",
   "execution_count": null,
   "metadata": {},
   "outputs": [],
   "source": [
    "demo_levelx(\n",
    "    \"highD\",\n",
    "    \"01_tracks.csv\",\n",
    "    \"./tactics2d/data/trajectory_sample/highD/data\",\n",
    "    xlim=[0, 300],\n",
    "    ylim=[-25, 5],\n",
    ")"
   ]
  },
  {
   "cell_type": "code",
   "execution_count": null,
   "metadata": {},
   "outputs": [],
   "source": [
    "demo_levelx(\n",
    "    \"highD\",\n",
    "    \"11_tracks.csv\",\n",
    "    \"./tactics2d/data/trajectory/highD/data\",\n",
    "    xlim=[0, 300],\n",
    "    ylim=[-35, 5],\n",
    "    export_to=\"./samples/imgs/highD_loc_1.gif\",\n",
    ")"
   ]
  },
  {
   "cell_type": "code",
   "execution_count": null,
   "metadata": {},
   "outputs": [],
   "source": [
    "demo_levelx(\n",
    "    \"highD\",\n",
    "    \"01_tracks.csv\",\n",
    "    \"./tactics2d/data/trajectory/highD/data\",\n",
    "    xlim=[0, 300],\n",
    "    ylim=[-25, 5],\n",
    "    export_to=\"./samples/imgs/highD_loc_2.gif\",\n",
    ")"
   ]
  },
  {
   "cell_type": "code",
   "execution_count": null,
   "metadata": {},
   "outputs": [],
   "source": [
    "demo_levelx(\n",
    "    \"highD\",\n",
    "    \"04_tracks.csv\",\n",
    "    \"./tactics2d/data/trajectory/highD/data\",\n",
    "    xlim=[0, 300],\n",
    "    ylim=[-30, 5],\n",
    "    export_to=\"./samples/imgs/highD_loc_3.gif\",\n",
    ")"
   ]
  },
  {
   "cell_type": "code",
   "execution_count": null,
   "metadata": {},
   "outputs": [],
   "source": [
    "demo_levelx(\n",
    "    \"highD\",\n",
    "    \"07_tracks.csv\",\n",
    "    \"./tactics2d/data/trajectory/highD/data\",\n",
    "    xlim=[0, 300],\n",
    "    ylim=[-30, 5],\n",
    "    export_to=\"./samples/imgs/highD_loc_4.gif\",\n",
    ")"
   ]
  },
  {
   "cell_type": "code",
   "execution_count": null,
   "metadata": {},
   "outputs": [],
   "source": [
    "demo_levelx(\n",
    "    \"highD\",\n",
    "    \"15_tracks.csv\",\n",
    "    \"./tactics2d/data/trajectory/highD/data\",\n",
    "    xlim=[0, 300],\n",
    "    ylim=[-25, 5],\n",
    "    time_range=(10000, 20000),\n",
    "    export_to=\"./samples/imgs/highD_loc_5.gif\",\n",
    ")"
   ]
  },
  {
   "cell_type": "code",
   "execution_count": null,
   "metadata": {},
   "outputs": [],
   "source": [
    "demo_levelx(\n",
    "    \"highD\",\n",
    "    \"58_tracks.csv\",\n",
    "    \"./tactics2d/data/trajectory/highD/data\",\n",
    "    xlim=[0, 300],\n",
    "    ylim=[-30, 10],\n",
    "    time_range=(10000, 20000),\n",
    "    export_to=\"./samples/imgs/highD_loc_6.gif\",\n",
    ")"
   ]
  },
  {
   "cell_type": "markdown",
   "metadata": {},
   "source": [
    "### InD\n",
    "\n",
    "Plot sample data from the InD dataset."
   ]
  },
  {
   "cell_type": "code",
   "execution_count": null,
   "metadata": {},
   "outputs": [],
   "source": [
    "demo_levelx(\n",
    "    \"inD\",\n",
    "    \"00_tracks.csv\",\n",
    "    \"./tactics2d/data/trajectory_sample/inD/data\",\n",
    "    xlim=[50, 200],\n",
    "    ylim=[-125, -25],\n",
    ")"
   ]
  },
  {
   "cell_type": "code",
   "execution_count": null,
   "metadata": {},
   "outputs": [],
   "source": [
    "demo_levelx(\n",
    "    \"inD\",\n",
    "    \"07_tracks.csv\",\n",
    "    \"./tactics2d/data/trajectory/inD/data\",\n",
    "    xlim=[0, 120],\n",
    "    ylim=[-75, 20],\n",
    "    export_to=\"./samples/imgs/inD_loc_1.gif\",\n",
    ")"
   ]
  },
  {
   "cell_type": "code",
   "execution_count": null,
   "metadata": {},
   "outputs": [],
   "source": [
    "demo_levelx(\n",
    "    \"inD\",\n",
    "    \"18_tracks.csv\",\n",
    "    \"./tactics2d/data/trajectory/inD/data\",\n",
    "    xlim=[0, 150],\n",
    "    ylim=[-60, 0],\n",
    "    export_to=\"./samples/imgs/inD_loc_2.gif\",\n",
    ")"
   ]
  },
  {
   "cell_type": "code",
   "execution_count": null,
   "metadata": {},
   "outputs": [],
   "source": [
    "demo_levelx(\n",
    "    \"inD\",\n",
    "    \"30_tracks.csv\",\n",
    "    \"./tactics2d/data/trajectory/inD/data\",\n",
    "    xlim=[-25, 100],\n",
    "    ylim=[-75, 0],\n",
    "    export_to=\"./samples/imgs/inD_loc_3.gif\",\n",
    ")"
   ]
  },
  {
   "cell_type": "code",
   "execution_count": null,
   "metadata": {},
   "outputs": [],
   "source": [
    "demo_levelx(\n",
    "    \"inD\",\n",
    "    \"00_tracks.csv\",\n",
    "    \"./tactics2d/data/trajectory/inD/data\",\n",
    "    xlim=[50, 240],\n",
    "    ylim=[-125, 0],\n",
    "    export_to=\"./samples/imgs/inD_loc_4.gif\",\n",
    ")"
   ]
  },
  {
   "cell_type": "markdown",
   "metadata": {},
   "source": [
    "### RounD\n",
    "\n",
    "Plot sample data from the RounD dataset."
   ]
  },
  {
   "cell_type": "code",
   "execution_count": null,
   "metadata": {},
   "outputs": [],
   "source": [
    "demo_levelx(\n",
    "    \"rounD\",\n",
    "    \"00_tracks.csv\",\n",
    "    \"./tactics2d/data/trajectory_sample/rounD/data\",\n",
    "    xlim=[50, 200],\n",
    "    ylim=[-145, -25],\n",
    ")"
   ]
  },
  {
   "cell_type": "code",
   "execution_count": null,
   "metadata": {},
   "outputs": [],
   "source": [
    "demo_levelx(\n",
    "    \"rounD\",\n",
    "    \"02_tracks.csv\",\n",
    "    \"./tactics2d/data/trajectory/rounD/data\",\n",
    "    xlim=[0, 150],\n",
    "    ylim=[-100, 5],\n",
    "    export_to=\"./samples/imgs/rounD_loc_0.gif\",\n",
    ")"
   ]
  },
  {
   "cell_type": "code",
   "execution_count": null,
   "metadata": {},
   "outputs": [],
   "source": [
    "demo_levelx(\n",
    "    \"rounD\",\n",
    "    \"00_tracks.csv\",\n",
    "    \"./tactics2d/data/trajectory/rounD/data\",\n",
    "    xlim=[50, 200],\n",
    "    ylim=[-150, -25],\n",
    "    export_to=\"./samples/imgs/rounD_loc_1.gif\",\n",
    ")"
   ]
  },
  {
   "cell_type": "code",
   "execution_count": null,
   "metadata": {},
   "outputs": [],
   "source": [
    "demo_levelx(\n",
    "    \"rounD\",\n",
    "    \"01_tracks.csv\",\n",
    "    \"./tactics2d/data/trajectory/rounD/data\",\n",
    "    xlim=[100, 175],\n",
    "    ylim=[-125, -25],\n",
    "    export_to=\"./samples/imgs/rounD_loc_2.gif\",\n",
    ")"
   ]
  },
  {
   "cell_type": "markdown",
   "metadata": {},
   "source": [
    "### ExiD\n",
    "\n",
    "Plot sample data from the ExiD dataset."
   ]
  },
  {
   "cell_type": "code",
   "execution_count": null,
   "metadata": {},
   "outputs": [],
   "source": [
    "demo_levelx(\n",
    "    \"exiD\",\n",
    "    \"00_tracks.csv\",\n",
    "    \"./tactics2d/data/trajectory_sample/rounD/data\",\n",
    "    xlim=[300, 600],\n",
    "    ylim=[-500, -100],\n",
    ")"
   ]
  },
  {
   "cell_type": "code",
   "execution_count": null,
   "metadata": {},
   "outputs": [],
   "source": [
    "demo_levelx(\n",
    "    \"exiD\",\n",
    "    \"00_tracks.csv\",\n",
    "    \"./tactics2d/data/trajectory/exiD/data\",\n",
    "    xlim=[300, 600],\n",
    "    ylim=[-500, -100],\n",
    "    export_to=\"./samples/imgs/exiD_loc_0.gif\",\n",
    ")"
   ]
  },
  {
   "cell_type": "code",
   "execution_count": null,
   "metadata": {},
   "outputs": [],
   "source": [
    "demo_levelx(\n",
    "    \"exiD\",\n",
    "    \"19_tracks.csv\",\n",
    "    \"./tactics2d/data/trajectory/exiD/data\",\n",
    "    xlim=[310, 600],\n",
    "    ylim=[-390, -90],\n",
    "    export_to=\"./samples/imgs/exiD_loc_1.gif\",\n",
    ")"
   ]
  },
  {
   "cell_type": "code",
   "execution_count": null,
   "metadata": {},
   "outputs": [],
   "source": [
    "demo_levelx(\n",
    "    \"exiD\",\n",
    "    \"39_tracks.csv\",\n",
    "    \"./tactics2d/data/trajectory/exiD/data\",\n",
    "    xlim=[550, 880],\n",
    "    ylim=[-600, -200],\n",
    "    export_to=\"./samples/imgs/exiD_loc_2.gif\",\n",
    ")"
   ]
  },
  {
   "cell_type": "code",
   "execution_count": null,
   "metadata": {},
   "outputs": [],
   "source": [
    "demo_levelx(\n",
    "    \"exiD\",\n",
    "    \"53_tracks.csv\",\n",
    "    \"./tactics2d/data/trajectory/exiD/data\",\n",
    "    xlim=[150, 550],\n",
    "    ylim=[-340, -50],\n",
    "    export_to=\"./samples/imgs/exiD_loc_3.gif\",\n",
    ")"
   ]
  },
  {
   "cell_type": "code",
   "execution_count": null,
   "metadata": {},
   "outputs": [],
   "source": [
    "demo_levelx(\n",
    "    \"exiD\",\n",
    "    \"61_tracks.csv\",\n",
    "    \"./tactics2d/data/trajectory/exiD/data\",\n",
    "    xlim=[200, 600],\n",
    "    ylim=[-350, -50],\n",
    "    export_to=\"./samples/imgs/exiD_loc_4.gif\",\n",
    ")"
   ]
  },
  {
   "cell_type": "code",
   "execution_count": null,
   "metadata": {},
   "outputs": [],
   "source": [
    "demo_levelx(\n",
    "    \"exiD\",\n",
    "    \"73_tracks.csv\",\n",
    "    \"./tactics2d/data/trajectory/exiD/data\",\n",
    "    xlim=[150, 650],\n",
    "    ylim=[-300, -140],\n",
    "    export_to=\"./samples/imgs/exiD_loc_5.gif\",\n",
    ")"
   ]
  },
  {
   "cell_type": "code",
   "execution_count": null,
   "metadata": {},
   "outputs": [],
   "source": [
    "demo_levelx(\n",
    "    \"exiD\",\n",
    "    \"78_tracks.csv\",\n",
    "    \"./tactics2d/data/trajectory/exiD/data\",\n",
    "    xlim=[150, 600],\n",
    "    ylim=[-240, -130],\n",
    "    export_to=\"./samples/imgs/exiD_loc_6.gif\",\n",
    ")"
   ]
  },
  {
   "cell_type": "markdown",
   "metadata": {},
   "source": [
    "### Argoverse"
   ]
  },
  {
   "cell_type": "code",
   "execution_count": null,
   "metadata": {},
   "outputs": [],
   "source": [
    "demo_argoverse(\n",
    "    \"scenario_0a51f8f5-3e8a-4d40-87e6-cb325c9c44ce.parquet\",\n",
    "    \"log_map_archive_0a51f8f5-3e8a-4d40-87e6-cb325c9c44ce.json\",\n",
    "    \"./tactics2d/data/trajectory/Argoverse/test/0a51f8f5-3e8a-4d40-87e6-cb325c9c44ce\",\n",
    "    xlim=[3400, 3700],\n",
    "    ylim=[-2000, -1800],\n",
    "    export_to=\"./samples/imgs/argoverse_sample.gif\",\n",
    ")"
   ]
  },
  {
   "cell_type": "markdown",
   "metadata": {},
   "source": [
    "### INTERACTION"
   ]
  },
  {
   "cell_type": "code",
   "execution_count": null,
   "metadata": {},
   "outputs": [],
   "source": [
    "demo_interaction(\n",
    "    \"vehicle_tracks_000.csv\",\n",
    "    \"./tactics2d/data/trajectory/INTERACTION/recorded_trackfiles/DR_CHN_Merging_ZS\",\n",
    "    \"DR_CHN_Merging_ZS\",\n",
    "    xlim=[1000, 1140],\n",
    "    ylim=[925, 975],\n",
    "    export_to=\"./samples/imgs/DR_CHN_Merging_ZS.gif\",\n",
    ")"
   ]
  },
  {
   "cell_type": "code",
   "execution_count": null,
   "metadata": {},
   "outputs": [],
   "source": [
    "demo_interaction(\n",
    "    \"vehicle_tracks_000.csv\",\n",
    "    \"./tactics2d/data/trajectory/INTERACTION/recorded_trackfiles/DR_CHN_Roundabout_LN\",\n",
    "    \"DR_CHN_Roundabout_LN\",\n",
    "    xlim=[920, 1070],\n",
    "    ylim=[960, 1050],\n",
    "    export_to=\"./samples/imgs/DR_CHN_Roundabout_LN.gif\",\n",
    ")"
   ]
  },
  {
   "cell_type": "code",
   "execution_count": null,
   "metadata": {},
   "outputs": [],
   "source": [
    "demo_interaction(\n",
    "    \"vehicle_tracks_000.csv\",\n",
    "    \"./tactics2d/data/trajectory/INTERACTION/recorded_trackfiles/DR_DEU_Merging_MT\",\n",
    "    \"DR_DEU_Merging_MT\",\n",
    "    xlim=[890, 1005],\n",
    "    ylim=[1000, 1015],\n",
    "    export_to=\"./samples/imgs/DR_DEU_Merging_MT.gif\",\n",
    ")"
   ]
  },
  {
   "cell_type": "code",
   "execution_count": null,
   "metadata": {},
   "outputs": [],
   "source": [
    "demo_interaction(\n",
    "    \"vehicle_tracks_000.csv\",\n",
    "    \"./tactics2d/data/trajectory/INTERACTION/recorded_trackfiles/DR_DEU_Roundabout_OF\",\n",
    "    \"DR_DEU_Roundabout_OF\",\n",
    "    xlim=[950, 1050],\n",
    "    ylim=[960, 1030],\n",
    "    export_to=\"./samples/imgs/DR_DEU_Roundabout_OF.gif\",\n",
    ")"
   ]
  },
  {
   "cell_type": "code",
   "execution_count": null,
   "metadata": {},
   "outputs": [],
   "source": [
    "demo_interaction(\n",
    "    \"vehicle_tracks_000.csv\",\n",
    "    \"./tactics2d/data/trajectory/INTERACTION/recorded_trackfiles/DR_USA_Intersection_EP0\",\n",
    "    \"DR_USA_Intersection_EP0\",\n",
    "    xlim=[950, 1050],\n",
    "    ylim=[965, 1020],\n",
    "    export_to=\"./samples/imgs/DR_USA_Intersection_EP0.gif\",\n",
    ")"
   ]
  },
  {
   "cell_type": "code",
   "execution_count": null,
   "metadata": {},
   "outputs": [],
   "source": [
    "demo_interaction(\n",
    "    \"vehicle_tracks_000.csv\",\n",
    "    \"./tactics2d/data/trajectory/INTERACTION/recorded_trackfiles/DR_USA_Intersection_EP1\",\n",
    "    \"DR_USA_Intersection_EP1\",\n",
    "    xlim=[950, 1095],\n",
    "    ylim=[950, 1020],\n",
    "    export_to=\"./samples/imgs/DR_USA_Intersection_EP1.gif\",\n",
    ")"
   ]
  },
  {
   "cell_type": "code",
   "execution_count": null,
   "metadata": {},
   "outputs": [],
   "source": [
    "demo_interaction(\n",
    "    \"vehicle_tracks_000.csv\",\n",
    "    \"./tactics2d/data/trajectory/INTERACTION/recorded_trackfiles/DR_USA_Intersection_GL\",\n",
    "    \"DR_USA_Intersection_GL\",\n",
    "    xlim=[940, 1040],\n",
    "    ylim=[940, 1020],\n",
    "    export_to=\"./samples/imgs/DR_USA_Intersection_GL.gif\",\n",
    ")"
   ]
  },
  {
   "cell_type": "code",
   "execution_count": null,
   "metadata": {},
   "outputs": [],
   "source": [
    "demo_interaction(\n",
    "    \"vehicle_tracks_000.csv\",\n",
    "    \"./tactics2d/data/trajectory/INTERACTION/recorded_trackfiles/DR_USA_Intersection_MA\",\n",
    "    \"DR_USA_Intersection_MA\",\n",
    "    xlim=[970, 1050],\n",
    "    ylim=[960, 1040],\n",
    "    export_to=\"./samples/imgs/DR_USA_Intersection_MA.gif\",\n",
    ")"
   ]
  },
  {
   "cell_type": "code",
   "execution_count": null,
   "metadata": {},
   "outputs": [],
   "source": [
    "demo_interaction(\n",
    "    \"vehicle_tracks_000.csv\",\n",
    "    \"./tactics2d/data/trajectory/INTERACTION/recorded_trackfiles/DR_USA_Roundabout_EP\",\n",
    "    \"DR_USA_Roundabout_EP\",\n",
    "    xlim=[950, 1095],\n",
    "    ylim=[980, 1050],\n",
    "    export_to=\"./samples/imgs/DR_USA_Roundabout_EP.gif\",\n",
    ")"
   ]
  },
  {
   "cell_type": "code",
   "execution_count": null,
   "metadata": {},
   "outputs": [],
   "source": [
    "demo_interaction(\n",
    "    \"vehicle_tracks_000.csv\",\n",
    "    \"./tactics2d/data/trajectory/INTERACTION/recorded_trackfiles/DR_USA_Roundabout_FT\",\n",
    "    \"DR_USA_Roundabout_FT\",\n",
    "    xlim=[960, 1060],\n",
    "    ylim=[970, 1025],\n",
    "    export_to=\"./samples/imgs/DR_USA_Roundabout_FT.gif\",\n",
    ")"
   ]
  },
  {
   "cell_type": "code",
   "execution_count": null,
   "metadata": {},
   "outputs": [],
   "source": [
    "demo_interaction(\n",
    "    \"vehicle_tracks_001.csv\",\n",
    "    \"./tactics2d/data/trajectory/INTERACTION/recorded_trackfiles/DR_USA_Roundabout_SR\",\n",
    "    \"DR_USA_Roundabout_SR\",\n",
    "    xlim=[910, 1050],\n",
    "    ylim=[980, 1060],\n",
    "    export_to=\"./samples/imgs/DR_USA_Roundabout_SR.gif\",\n",
    ")"
   ]
  },
  {
   "cell_type": "code",
   "execution_count": null,
   "metadata": {},
   "outputs": [],
   "source": [
    "demo_interaction(\n",
    "    \"vehicle_tracks_001.csv\",\n",
    "    \"./tactics2d/data/trajectory/INTERACTION/recorded_trackfiles/TC_BGR_Intersection_VA\",\n",
    "    \"TC_BGR_Intersection_VA\",\n",
    "    xlim=[965, 1025],\n",
    "    ylim=[975, 1035],\n",
    "    export_to=\"./samples/imgs/DR_BGR_Intersection_VA.gif\",\n",
    ")"
   ]
  },
  {
   "cell_type": "markdown",
   "metadata": {},
   "source": [
    "### NuPlan\n",
    "\n",
    "Because the map of NuPlan is extremely large, we suggest you to run the following codes in the local environment."
   ]
  },
  {
   "cell_type": "code",
   "execution_count": null,
   "metadata": {},
   "outputs": [],
   "source": [
    "# plot NuPlan sample scenario\n",
    "nuplan_fps = 20\n",
    "nuplan_interval = int(1000 / nuplan_fps)\n",
    "\n",
    "dataset_parser = NuPlanParser()\n",
    "participants, actual_time_range = dataset_parser.parse_trajectory(\n",
    "    \"2021.08.26.18.24.36_veh-28_00578_00663.db\",\n",
    "    \"./tactics2d/data/trajectory/NuPlan/data/cache/train_boston\",\n",
    ")\n",
    "\n",
    "frames = [t for t in actual_time_range if t < actual_time_range[0] + 10000]\n",
    "location = dataset_parser.get_location(\n",
    "    \"2021.08.26.18.24.36_veh-28_00578_00663.db\",\n",
    "    \"./tactics2d/data/trajectory_sample/NuPlan/data/cache/train_boston\",\n",
    ")\n",
    "map_ = dataset_parser.parse_map(configs[location][\"gpkg_path\"], map_folder)\n",
    "\n",
    "scenario_display.reset()\n",
    "ax_settings = {\"aspect\": \"equal\", \"xlim\": [331420, 331550], \"ylim\": [4689360, 4689470]}\n",
    "animation = scenario_display.display(\n",
    "    participants, map_, nuplan_interval, frames, (5, 4.2), **ax_settings\n",
    ")\n",
    "animation.save(\n",
    "    filename=\"./samples/imgs/nuplan_boston.gif\", writer=\"ffmpeg\", fps=nuplan_fps, dpi=300\n",
    ")"
   ]
  },
  {
   "cell_type": "code",
   "execution_count": null,
   "metadata": {},
   "outputs": [],
   "source": [
    "dataset_parser = NuPlanParser()\n",
    "participants, actual_time_range = dataset_parser.parse_trajectory(\n",
    "    \"2021.08.17.13.15.12_veh-45_00324_00489.db\",\n",
    "    \"./tactics2d/data/trajectory/NuPlan/data/cache/train_pittsburgh/\",\n",
    ")\n",
    "\n",
    "frames = [t for t in actual_time_range if t < actual_time_range[0] + 10000]\n",
    "location = dataset_parser.get_location(\n",
    "    \"2021.08.17.13.15.12_veh-45_00324_00489.db\",\n",
    "    \"./tactics2d/data/trajectory/NuPlan/data/cache/train_pittsburgh/\",\n",
    ")\n",
    "map_ = dataset_parser.parse_map(configs[location][\"gpkg_path\"], map_folder)\n",
    "\n",
    "x_min = np.inf\n",
    "x_max = -np.inf\n",
    "y_min = np.inf\n",
    "y_max = -np.inf\n",
    "\n",
    "for participant in participants.values():\n",
    "    for state in participant.trajectory.history_states.values():\n",
    "        x, y = state.location\n",
    "        x_min = min(x_min, x)\n",
    "        x_max = max(x_max, x)\n",
    "        y_min = min(y_min, y)\n",
    "        y_max = max(y_max, y)\n",
    "\n",
    "print(x_min, x_max, y_min, y_max)\n",
    "\n",
    "scenario_display.reset()\n",
    "ax_settings = {\"aspect\": \"equal\", \"xlim\": [x_min, x_max], \"ylim\": [y_min, y_max]}\n",
    "scenario_display.display(participants, map_, nuplan_interval, frames, (5, 4.2), **ax_settings)\n",
    "# animation = scenario_display.display(participants, map_, nuplan_interval, frames, (5, 4.2), **ax_settings)\n",
    "# animation.save(filename=\"./samples/imgs/nuplan_pittsburghgif\", writer=\"ffmpeg\", fps=nuplan_fps, dpi=300)"
   ]
  },
  {
   "cell_type": "code",
   "execution_count": null,
   "metadata": {},
   "outputs": [],
   "source": [
    "dataset_parser = NuPlanParser()\n",
    "participants, actual_time_range = dataset_parser.parse_trajectory(\n",
    "    \"2021.08.18.06.04.33_veh-51_00183_00300.db\",\n",
    "    \"./tactics2d/data/trajectory/NuPlan/data/cache/train_singapore/\",\n",
    ")\n",
    "\n",
    "frames = [t for t in actual_time_range if t < actual_time_range[0] + 10000]\n",
    "location = dataset_parser.get_location(\n",
    "    \"2021.08.18.06.04.33_veh-51_00183_00300.db\",\n",
    "    \"./tactics2d/data/trajectory/NuPlan/data/cache/train_singapore/\",\n",
    ")\n",
    "map_ = dataset_parser.parse_map(configs[location][\"gpkg_path\"], map_folder)\n",
    "\n",
    "x_min = np.inf\n",
    "x_max = -np.inf\n",
    "y_min = np.inf\n",
    "y_max = -np.inf\n",
    "\n",
    "for participant in participants.values():\n",
    "    for state in participant.trajectory.history_states.values():\n",
    "        x, y = state.location\n",
    "        x_min = min(x_min, x)\n",
    "        x_max = max(x_max, x)\n",
    "        y_min = min(y_min, y)\n",
    "        y_max = max(y_max, y)\n",
    "\n",
    "print(x_min, x_max, y_min, y_max)\n",
    "\n",
    "scenario_display.reset()\n",
    "ax_settings = {\"aspect\": \"equal\", \"xlim\": [365021, 365314], \"ylim\": [142988, 143251]}\n",
    "scenario_display.display(participants, map_, nuplan_interval, frames, (5, 4.2), **ax_settings)\n",
    "# animation = scenario_display.display(participants, map_, nuplan_interval, frames, (5, 4.2), **ax_settings)\n",
    "# animation.save(filename=\"./samples/imgs/nuplan_pittsburghgif\", writer=\"ffmpeg\", fps=nuplan_fps, dpi=300)"
   ]
  },
  {
   "cell_type": "code",
   "execution_count": null,
   "metadata": {},
   "outputs": [],
   "source": []
  }
 ],
 "metadata": {
  "kernelspec": {
   "display_name": "tactics2d",
   "language": "python",
   "name": "python3"
  },
  "language_info": {
   "codemirror_mode": {
    "name": "ipython",
    "version": 3
   },
   "file_extension": ".py",
   "mimetype": "text/x-python",
   "name": "python",
   "nbconvert_exporter": "python",
   "pygments_lexer": "ipython3",
   "version": "3.9.19"
  }
 },
 "nbformat": 4,
 "nbformat_minor": 2
}
